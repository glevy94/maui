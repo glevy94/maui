{
 "cells": [
  {
   "cell_type": "code",
   "execution_count": 224,
   "metadata": {},
   "outputs": [],
   "source": [
    "import os\n",
    "import pandas as pd\n",
    "from datetime import datetime\n",
    "from openai import OpenAI\n",
    "from bertopic import BERTopic\n",
    "import numpy as np"
   ]
  },
  {
   "cell_type": "code",
   "execution_count": 221,
   "metadata": {},
   "outputs": [
    {
     "name": "stdout",
     "output_type": "stream",
     "text": [
      "0_C2_112123.csv: Total lines before stripping: 27\n",
      "0_C1_052124.csv: Total lines before stripping: 45\n",
      "0_C2_041624.csv: Total lines before stripping: 29\n",
      "1_B4_081523.csv: Total lines before stripping: 14\n",
      "1_B4_072324.csv: Total lines before stripping: 65\n",
      "1_B3_013024.csv: Total lines before stripping: 31\n",
      "0_C2_051623.csv: Total lines before stripping: 26\n",
      "1_B2_091923.csv: Total lines before stripping: 44\n",
      "0_C2_031924.csv: Total lines before stripping: 28\n",
      "1_B1_072324.csv: Total lines before stripping: 32\n",
      "1_B6_013024.csv: Total lines before stripping: 16\n",
      "0_C1_062023.csv: Total lines before stripping: 181\n",
      "0_C1_041823.csv: Total lines before stripping: 35\n",
      "0_C3_061824.csv: Total lines before stripping: 48\n",
      "1_C2_072623.csv: Total lines before stripping: 39\n",
      "0_B3_022024.csv: Total lines before stripping: 74\n",
      "0_B1_032123.csv: Total lines before stripping: 31\n",
      "1_B3_041823.csv: Total lines before stripping: 10\n",
      "1_B1_061824.csv: Total lines before stripping: 7\n",
      "1_B3_062023.csv: Total lines before stripping: 191\n",
      "1_B1_081523.csv: Total lines before stripping: 47\n",
      "0_B3_102423.csv: Total lines before stripping: 43\n",
      "1_B2_051623.csv: Total lines before stripping: 29\n",
      "1_B2_112123.csv: Total lines before stripping: 8\n",
      "1_B1_013024.csv: Total lines before stripping: 95\n",
      "1_B1_052124.csv: Total lines before stripping: 37\n",
      "1_B2_041624.csv: Total lines before stripping: 183\n",
      "0_C1_061824.csv: Total lines before stripping: 103\n",
      "0_B2_072623.csv: Total lines before stripping: 95\n",
      "1_C1_032123.csv: Total lines before stripping: 109\n",
      "1_B2_121923.csv: Total lines before stripping: 24\n",
      "1_B3_072324.csv: Total lines before stripping: 9\n",
      "0_C2_012423.csv: Total lines before stripping: 17\n",
      "0_C1_081523.csv: Total lines before stripping: 38\n",
      "1_B4_013024.csv: Total lines before stripping: 36\n",
      "1_B3_081523.csv: Total lines before stripping: 42\n",
      "1_B1_062023.csv: Total lines before stripping: 107\n",
      "1_B2_031924.csv: Total lines before stripping: 70\n",
      "0_B1_022024.csv: Total lines before stripping: 69\n",
      "1_B1_041823.csv: Total lines before stripping: 55\n",
      "0_C5_112123.csv: Total lines before stripping: 20\n",
      "0_C1_012423.csv: Total lines before stripping: 96\n",
      "0_C2_081523.csv: Total lines before stripping: 38\n",
      "1_B1_121923.csv: Total lines before stripping: 14\n",
      "0_B1_072623.csv: Total lines before stripping: 508\n",
      "1_C2_032123.csv: Total lines before stripping: 6\n",
      "0_C2_061824.csv: Total lines before stripping: 17\n",
      "1_B2_041823.csv: Total lines before stripping: 55\n",
      "0_C6_112123.csv: Total lines before stripping: 14\n",
      "0_B2_022024.csv: Total lines before stripping: 50\n",
      "1_B1_031924.csv: Total lines before stripping: 79\n",
      "1_B2_062023.csv: Total lines before stripping: 43\n",
      "0_C1_091923.csv: Total lines before stripping: 215\n",
      "0_C3_112123.csv: Total lines before stripping: 40\n",
      "0_C3_041624.csv: Total lines before stripping: 37\n",
      "1_B1_051623.csv: Total lines before stripping: 132\n",
      "1_B4_121923.csv: Total lines before stripping: 140\n",
      "1_B1_041624.csv: Total lines before stripping: 81\n",
      "1_B2_013024.csv: Total lines before stripping: 123\n",
      "1_B3_091923.csv: Total lines before stripping: 49\n",
      "1_B4_091923.csv: Total lines before stripping: 14\n",
      "0_B3_072623.csv: Total lines before stripping: 117\n",
      "0_C2_041823.csv: Total lines before stripping: 57\n",
      "1_B2_072324.csv: Total lines before stripping: 111\n",
      "1_B5_013024.csv: Total lines before stripping: 14\n",
      "0_C1_031924.csv: Total lines before stripping: 119\n",
      "1_B3_121923.csv: Total lines before stripping: 28\n",
      "0_C1_121923.csv: Total lines before stripping: 89\n",
      "1_B3_031924.csv: Total lines before stripping: 55\n",
      "1_B1_012423.csv: Total lines before stripping: 30\n",
      "1_B2_081523.csv: Total lines before stripping: 97\n",
      "0_C4_112123.csv: Total lines before stripping: 67\n",
      "1_B2_061824.csv: Total lines before stripping: 105\n",
      "1_C1_072623.csv: Total lines before stripping: 63\n",
      "0_C2_052124.csv: Total lines before stripping: 159\n",
      "0_B2_102423.csv: Total lines before stripping: 154\n",
      "0_C1_041624.csv: Total lines before stripping: 102\n",
      "0_C1_112123.csv: Total lines before stripping: 136\n",
      "1_B1_091923.csv: Total lines before stripping: 7\n",
      "0_C1_051623.csv: Total lines before stripping: 63\n",
      "\n",
      "Total number of lines across all files: 5533\n"
     ]
    }
   ],
   "source": [
    "# Folder where your CSV files are stored\n",
    "data_folder = 'data/'\n",
    "\n",
    "# Function to extract metadata from the file name\n",
    "def extract_metadata(filename):\n",
    "    parts = filename.split('_')\n",
    "    action_item = int(parts[0])\n",
    "    section = parts[1]\n",
    "    date = datetime.strptime(parts[2].replace('.csv', ''), '%m%d%y').strftime('%m/%d/%Y')\n",
    "    return action_item, section, date\n",
    "\n",
    "# Process all CSV files in the data folder and merge them into one\n",
    "def process_all_files(data_folder):\n",
    "    all_data = []  # List to store all processed data\n",
    "    short_lines_data = []  # List to store lines with <= 3 words\n",
    "    total_lines_across_files = 0\n",
    "\n",
    "    # Iterate through all files in the folder\n",
    "    for filename in os.listdir(data_folder):\n",
    "        if filename.endswith('.csv'):\n",
    "            try:\n",
    "                # Extract metadata from file name\n",
    "                action_item, section, date = extract_metadata(filename)\n",
    "\n",
    "                # Load the CSV file as plain text and treat each line as a chunk\n",
    "                file_path = os.path.join(data_folder, filename)\n",
    "                with open(file_path, 'r') as file:\n",
    "                    lines = file.readlines()\n",
    "                \n",
    "                # Count the total number of lines before stripping\n",
    "                total_lines_before_stripping = len(lines)\n",
    "                total_lines_across_files += total_lines_before_stripping  # Add to the overall total\n",
    "                print(f\"{filename}: Total lines before stripping: {total_lines_before_stripping}\")\n",
    "\n",
    "                # Clean the lines\n",
    "                lines = [line.strip() for line in lines if line.strip()]\n",
    "\n",
    "                # Separate lines based on word count\n",
    "                long_lines = [line for line in lines if len(line.split()) > 8]\n",
    "                short_lines = [line for line in lines if len(line.split()) <= 8]\n",
    "\n",
    "                # Create a DataFrame where each long line is a row\n",
    "                if long_lines:\n",
    "                    df = pd.DataFrame(long_lines, columns=['text'])\n",
    "                    df['action_item'] = action_item\n",
    "                    df['section'] = section\n",
    "                    df['date'] = date\n",
    "                    all_data.append(df)\n",
    "\n",
    "                # Store short lines in a separate DataFrame\n",
    "                if short_lines:\n",
    "                    short_df = pd.DataFrame(short_lines, columns=['text'])\n",
    "                    short_df['action_item'] = action_item\n",
    "                    short_df['section'] = section\n",
    "                    short_df['date'] = date\n",
    "                    short_lines_data.append(short_df)\n",
    "\n",
    "            except Exception as e:\n",
    "                print(f\"Error processing {filename}: {e}\")\n",
    "\n",
    "    # Merge all the DataFrames for long lines into one\n",
    "    merged_df = pd.concat(all_data, ignore_index=True) if all_data else pd.DataFrame()\n",
    "\n",
    "    # Merge all the DataFrames for short lines into one\n",
    "    short_lines_df = pd.concat(short_lines_data, ignore_index=True) if short_lines_data else pd.DataFrame()\n",
    "\n",
    "    # Print the final total number of lines across all files\n",
    "    #print(f\"\\nTotal number of lines across all files: {total_lines_across_files}\")\n",
    "\n",
    "    # Return both DataFrames\n",
    "    return merged_df, short_lines_df\n",
    "\n",
    "# Run the function to process all files and return the DataFrames\n",
    "long_lines_df_8, short_lines_df_8 = process_all_files(data_folder)"
   ]
  },
  {
   "cell_type": "code",
   "execution_count": 225,
   "metadata": {},
   "outputs": [
    {
     "name": "stdout",
     "output_type": "stream",
     "text": [
      "                                                text  action_item section  \\\n",
      "0  Informational Briefing by University of Hawai‘...            0      C2   \n",
      "1  Dr. Yinphan Tsang, University of Hawaiʻi, Asso...            0      C2   \n",
      "2  Dr. Ayron Strauch introduced Dr. Tsang and her...            0      C2   \n",
      "3  Thank you for your research. Seems like the ri...            0      C2   \n",
      "4  That's definitely a very unfortunate situation...            0      C2   \n",
      "\n",
      "         date                                          embedding  \n",
      "0  11/21/2023  [0.024119375, -0.040089425, -0.022450078, -0.0...  \n",
      "1  11/21/2023  [-0.007699211, 0.009600094, -0.017184485, -0.0...  \n",
      "2  11/21/2023  [-0.013201765, -0.06842258, -0.023743473, -0.0...  \n",
      "3  11/21/2023  [-0.05819176, -0.0128431935, -0.03045507, -0.0...  \n",
      "4  11/21/2023  [-0.0008313168, -0.0369649, -0.015780263, -0.0...  \n"
     ]
    }
   ],
   "source": [
    "\n",
    "client = OpenAI(\n",
    "  api_key=\n",
    ")\n",
    "\n",
    "\n",
    "\n",
    "# Function to get embeddings from OpenAI\n",
    "def get_embedding(text):\n",
    "    response = client.embeddings.create( model=\"text-embedding-3-large\", input=text, encoding_format=\"float\", dimensions= 512)\n",
    "    return response.data[0].embedding\n",
    "\n",
    "# Add embeddings to the long_lines_df\n",
    "def add_embeddings_to_df(df):\n",
    "    # Apply the get_embedding function to the 'text' column\n",
    "    df['embedding'] = df['text'].apply(get_embedding)\n",
    "    return df\n",
    "\n",
    "# Assuming long_lines_df already exists from previous steps\n",
    "long_lines_df_8_with_embeddings = add_embeddings_to_df(long_lines_df_8)\n",
    "\n",
    "# Display the DataFrame with embeddings\n",
    "print(long_lines_df_8_with_embeddings.head())\n",
    "\n",
    "# Optionally, save the DataFrame with embeddings to a CSV file\n",
    "long_lines_df_8_with_embeddings.to_csv('long_lines_with_embeddings.csv', index=False)"
   ]
  },
  {
   "cell_type": "code",
   "execution_count": 226,
   "metadata": {},
   "outputs": [],
   "source": [
    "from bertopic.representation import OpenAI\n",
    "from bertopic.vectorizers import ClassTfidfTransformer\n",
    "from sklearn.feature_extraction.text import CountVectorizer\n",
    "\n",
    "vectorizer_model = CountVectorizer(stop_words=\"english\")\n",
    "ctfidf_model = ClassTfidfTransformer(reduce_frequent_words=True)\n",
    "representation_model = OpenAI(client, delay_in_seconds=10, model=\"gpt-4o-mini\",chat=True)\n",
    "\n",
    "# Assuming 'text' and 'embedding' columns are in the long_lines_df\n",
    "texts = long_lines_df_8_with_embeddings['text'].tolist()  # Extract text\n",
    "embeddings = np.array(long_lines_df_8_with_embeddings['embedding'].tolist())  # Convert embeddings to numpy array\n",
    "\n",
    "# Create a BERTopic model\n",
    "topic_model = BERTopic(\n",
    "    nr_topics=\"auto\",                 # Reduce the number of topics (int or None)\n",
    "    top_n_words=15,                 # The number of words per topic\n",
    "    min_topic_size=15,              # Minimum size of a topic cluster\n",
    "    low_memory=False,               # Reduce memory usage at the cost of slower speed\n",
    "    embedding_model=None,           # Model used to embed the text (you can use custom embeddings or models like BERT)\n",
    "    vectorizer_model=vectorizer_model,        \n",
    "    calculate_probabilities=False,  # Calculate the probability of topics per document\n",
    "    seed_topic_list=None,           # Seed topics with certain words\n",
    "    language=\"english\",             # The language of the model\n",
    "    verbose=False,                   # Set to True to get detailed output\n",
    "    #ctfidf_model=ctfidf_model,\n",
    "    representation_model=representation_model\n",
    ")\n",
    "\n",
    "# Fit BERTopic on the texts and precomputed embeddings\n",
    "topics, probabilities = topic_model.fit_transform(texts, embeddings)\n"
   ]
  },
  {
   "cell_type": "code",
   "execution_count": 229,
   "metadata": {},
   "outputs": [],
   "source": [
    "# Reduce outliers using the `embeddings` strategy\n",
    "new_topics = topic_model.reduce_outliers(texts, topics, strategy=\"embeddings\", embeddings=embeddings)"
   ]
  },
  {
   "cell_type": "code",
   "execution_count": 257,
   "metadata": {},
   "outputs": [
    {
     "data": {
      "text/html": [
       "<div>\n",
       "<style scoped>\n",
       "    .dataframe tbody tr th:only-of-type {\n",
       "        vertical-align: middle;\n",
       "    }\n",
       "\n",
       "    .dataframe tbody tr th {\n",
       "        vertical-align: top;\n",
       "    }\n",
       "\n",
       "    .dataframe thead th {\n",
       "        text-align: right;\n",
       "    }\n",
       "</style>\n",
       "<table border=\"1\" class=\"dataframe\">\n",
       "  <thead>\n",
       "    <tr style=\"text-align: right;\">\n",
       "      <th></th>\n",
       "      <th>text</th>\n",
       "      <th>topic</th>\n",
       "    </tr>\n",
       "  </thead>\n",
       "  <tbody>\n",
       "    <tr>\n",
       "      <th>0</th>\n",
       "      <td>Informational Briefing by University of Hawai‘i Biota Survey in Hālawa Stream, O‘ahu</td>\n",
       "      <td>26</td>\n",
       "    </tr>\n",
       "    <tr>\n",
       "      <th>1</th>\n",
       "      <td>Dr. Yinphan Tsang, University of Hawaiʻi, Associate Professor in Hydrology</td>\n",
       "      <td>21</td>\n",
       "    </tr>\n",
       "    <tr>\n",
       "      <th>2</th>\n",
       "      <td>Dr. Ayron Strauch introduced Dr. Tsang and her team from the University of Hawaiʻi. She explained the effects of the Navy’s water discharge from the Hālawa Shaft into South Hālawa Stream.</td>\n",
       "      <td>21</td>\n",
       "    </tr>\n",
       "    <tr>\n",
       "      <th>3</th>\n",
       "      <td>Thank you for your research. Seems like the rising tide floated all the species or it benefited all the species. Will over time the non-native species propose a habitat transforming risk because they outcompete or they are predators of the natives?</td>\n",
       "      <td>19</td>\n",
       "    </tr>\n",
       "    <tr>\n",
       "      <th>4</th>\n",
       "      <td>That's definitely a very unfortunate situation but that's what we are seeing right now and so far. You are probably already aware that we are experiencing a quite unusual drought situation this year. I think that's also contributing to this unprecedented dry condition that might have increased this environmental stressor like hotter environment and allow those more tolerant invasive species that can stay there while our native is probably not so happy there. So yes, that's likely what's going on right now.</td>\n",
       "      <td>3</td>\n",
       "    </tr>\n",
       "  </tbody>\n",
       "</table>\n",
       "</div>"
      ],
      "text/plain": [
       "                                                                                                                                                                                                                                                                                                                                                                                                                                                                                                                              text  \\\n",
       "0                                                                                                                                                                                                                                                                                                                                                                                                                                             Informational Briefing by University of Hawai‘i Biota Survey in Hālawa Stream, O‘ahu   \n",
       "1                                                                                                                                                                                                                                                                                                                                                                                                                                                       Dr. Yinphan Tsang, University of Hawaiʻi, Associate Professor in Hydrology   \n",
       "2                                                                                                                                                                                                                                                                                                                                      Dr. Ayron Strauch introduced Dr. Tsang and her team from the University of Hawaiʻi. She explained the effects of the Navy’s water discharge from the Hālawa Shaft into South Hālawa Stream.   \n",
       "3                                                                                                                                                                                                                                                                         Thank you for your research. Seems like the rising tide floated all the species or it benefited all the species. Will over time the non-native species propose a habitat transforming risk because they outcompete or they are predators of the natives?   \n",
       "4  That's definitely a very unfortunate situation but that's what we are seeing right now and so far. You are probably already aware that we are experiencing a quite unusual drought situation this year. I think that's also contributing to this unprecedented dry condition that might have increased this environmental stressor like hotter environment and allow those more tolerant invasive species that can stay there while our native is probably not so happy there. So yes, that's likely what's going on right now.   \n",
       "\n",
       "   topic  \n",
       "0     26  \n",
       "1     21  \n",
       "2     21  \n",
       "3     19  \n",
       "4      3  "
      ]
     },
     "execution_count": 257,
     "metadata": {},
     "output_type": "execute_result"
    }
   ],
   "source": [
    "# Add the topic labels to the DataFrame\n",
    "long_lines_df_8_with_embeddings['topic'] = new_topics\n",
    "\n",
    "# Display the DataFrame with topics\n",
    "long_lines_df_8_with_embeddings[['text', 'topic']].head()\n"
   ]
  },
  {
   "cell_type": "code",
   "execution_count": 258,
   "metadata": {},
   "outputs": [
    {
     "data": {
      "application/vnd.plotly.v1+json": {
       "config": {
        "plotlyServerURL": "https://plot.ly"
       },
       "data": [
        {
         "customdata": [
          [
           0,
           "Red Hill Environmental Remediation and Water Quality Monitoring Efforts",
           345
          ],
          [
           1,
           "Water Resource Management and Public Trust Issues in Hawaiʻi",
           248
          ],
          [
           2,
           "Zoom Meeting Discussion on Item B-1",
           205
          ],
          [
           3,
           "Water Resource Management and Infrastructure Planning in Hawai‘i",
           189
          ],
          [
           4,
           "Stream Flow Management and Diversion Modifications in West Maui",
           183
          ],
          [
           5,
           "KIUC Phase One Agreement and Cost Estimates for Modifications",
           143
          ],
          [
           6,
           "West Maui Water Rights and Management Debate",
           98
          ],
          [
           7,
           "Support for Kaleo Manuel's Reappointment as Deputy Director of the Water Commission",
           88
          ],
          [
           8,
           "Commission Discussions on Contested Case Hearing and Permit Review Process",
           80
          ],
          [
           9,
           "Delegation and Rulemaking Issues in Commission Decisions",
           66
          ],
          [
           10,
           "Legislative Process and Commission Involvement in Water Management Bills",
           58
          ],
          [
           11,
           "Maui Temporary Housing for Lahaina Fire Displaced Residents",
           55
          ],
          [
           12,
           "Stream Channel Alteration and Diversion Permits in Hawaii",
           50
          ],
          [
           13,
           "Water Resource Planning and Management in East Honolulu and Maui",
           49
          ],
          [
           14,
           "Agricultural Water Usage and Allocation Analysis",
           44
          ],
          [
           15,
           "Traditional and Customary Rights of Native Hawaiians and Their Legal Implications",
           44
          ],
          [
           16,
           "Staff Recommendations Approval Motions (Hannahs/Katayama)",
           37
          ],
          [
           17,
           "Understanding Feedback and Comparison Issues",
           33
          ],
          [
           18,
           "Federal Funding and Watershed Management Efforts",
           30
          ],
          [
           19,
           "Data Utilization and Knowledge Exchange in Decision Making",
           25
          ],
          [
           20,
           "Groundwater Availability and Sustainability in Hawai‘i Aquifers",
           24
          ],
          [
           21,
           "Stream Protection Management Overview by Dr. Ayron Strauch",
           24
          ],
          [
           22,
           "Clarification of Disputed Numeric Data",
           22
          ],
          [
           23,
           "Ka Paʻakai Mitigation and Impact Analysis",
           21
          ],
          [
           24,
           "Community Feedback on Water Quality Data and Accessibility",
           20
          ],
          [
           25,
           "Delegation of Authority for Well Construction and Pump Installation Permits in Hawaii",
           19
          ],
          [
           26,
           "Update on Water Resource Management in Waimea and Lahaina Aquifers",
           18
          ],
          [
           27,
           "Balancing Water Reservations and Public Trust Uses for DHHL",
           18
          ],
          [
           28,
           "Screen Sharing Issues in Online Meetings",
           16
          ],
          [
           29,
           "Commission Briefing and Public Engagement",
           16
          ]
         ],
         "hovertemplate": "<b>Topic %{customdata[0]}</b><br>%{customdata[1]}<br>Size: %{customdata[2]}",
         "legendgroup": "",
         "marker": {
          "color": "#B0BEC5",
          "line": {
           "color": "DarkSlateGrey",
           "width": 2
          },
          "size": [
           345,
           248,
           205,
           189,
           183,
           143,
           98,
           88,
           80,
           66,
           58,
           55,
           50,
           49,
           44,
           44,
           37,
           33,
           30,
           25,
           24,
           24,
           22,
           21,
           20,
           19,
           18,
           18,
           16,
           16
          ],
          "sizemode": "area",
          "sizeref": 0.215625,
          "symbol": "circle"
         },
         "mode": "markers",
         "name": "",
         "orientation": "v",
         "showlegend": false,
         "type": "scatter",
         "x": [
          5.273373603820801,
          10.195520401000977,
          13.043584823608398,
          5.624936580657959,
          5.55600118637085,
          10.470159530639648,
          9.924407958984375,
          10.228691101074219,
          10.217851638793945,
          12.207999229431152,
          12.402975082397461,
          10.825857162475586,
          -18.961946487426758,
          5.913208961486816,
          5.198911666870117,
          10.826648712158203,
          -18.540454864501953,
          13.443964958190918,
          5.439741134643555,
          5.094466209411621,
          4.905739784240723,
          -19.35365867614746,
          13.5625638961792,
          10.93880558013916,
          5.306334018707275,
          -18.77869987487793,
          -19.117481231689453,
          5.796942710876465,
          12.862166404724121,
          12.734091758728027
         ],
         "xaxis": "x",
         "y": [
          -5.522543430328369,
          7.922451496124268,
          5.78385591506958,
          -6.093055248260498,
          -6.063790321350098,
          7.659805774688721,
          7.551177978515625,
          7.417001724243164,
          6.970977783203125,
          7.009458065032959,
          6.79452657699585,
          7.5380048751831055,
          2.8887174129486084,
          -6.246661186218262,
          -6.226686477661133,
          6.567080020904541,
          3.0944674015045166,
          5.169914722442627,
          -6.633180618286133,
          -7.028316974639893,
          -6.505504131317139,
          3.459268808364868,
          5.002516269683838,
          6.437738418579102,
          -5.386374473571777,
          2.722886562347412,
          3.126460075378418,
          -6.73984956741333,
          5.655799388885498,
          6.370288372039795
         ],
         "yaxis": "y"
        }
       ],
       "layout": {
        "annotations": [
         {
          "showarrow": false,
          "text": "D1",
          "x": -22.25670747756958,
          "y": 0.5141273498535153,
          "yshift": 10
         },
         {
          "showarrow": false,
          "text": "D2",
          "x": -3.329879498481751,
          "xshift": 10,
          "y": 9.110819220542908
         }
        ],
        "height": 650,
        "hoverlabel": {
         "bgcolor": "white",
         "font": {
          "family": "Rockwell",
          "size": 16
         }
        },
        "legend": {
         "itemsizing": "constant",
         "tracegroupgap": 0
        },
        "margin": {
         "t": 60
        },
        "shapes": [
         {
          "line": {
           "color": "#CFD8DC",
           "width": 2
          },
          "type": "line",
          "x0": -3.329879498481751,
          "x1": -3.329879498481751,
          "y0": -8.082564520835877,
          "y1": 9.110819220542908
         },
         {
          "line": {
           "color": "#9E9E9E",
           "width": 2
          },
          "type": "line",
          "x0": -22.25670747756958,
          "x1": 15.596948480606079,
          "y0": 0.5141273498535153,
          "y1": 0.5141273498535153
         }
        ],
        "sliders": [
         {
          "active": 0,
          "pad": {
           "t": 50
          },
          "steps": [
           {
            "args": [
             {
              "marker.color": [
               [
                "red",
                "#B0BEC5",
                "#B0BEC5",
                "#B0BEC5",
                "#B0BEC5",
                "#B0BEC5",
                "#B0BEC5",
                "#B0BEC5",
                "#B0BEC5",
                "#B0BEC5",
                "#B0BEC5",
                "#B0BEC5",
                "#B0BEC5",
                "#B0BEC5",
                "#B0BEC5",
                "#B0BEC5",
                "#B0BEC5",
                "#B0BEC5",
                "#B0BEC5",
                "#B0BEC5",
                "#B0BEC5",
                "#B0BEC5",
                "#B0BEC5",
                "#B0BEC5",
                "#B0BEC5",
                "#B0BEC5",
                "#B0BEC5",
                "#B0BEC5",
                "#B0BEC5",
                "#B0BEC5"
               ]
              ]
             }
            ],
            "label": "Topic 0",
            "method": "update"
           },
           {
            "args": [
             {
              "marker.color": [
               [
                "#B0BEC5",
                "red",
                "#B0BEC5",
                "#B0BEC5",
                "#B0BEC5",
                "#B0BEC5",
                "#B0BEC5",
                "#B0BEC5",
                "#B0BEC5",
                "#B0BEC5",
                "#B0BEC5",
                "#B0BEC5",
                "#B0BEC5",
                "#B0BEC5",
                "#B0BEC5",
                "#B0BEC5",
                "#B0BEC5",
                "#B0BEC5",
                "#B0BEC5",
                "#B0BEC5",
                "#B0BEC5",
                "#B0BEC5",
                "#B0BEC5",
                "#B0BEC5",
                "#B0BEC5",
                "#B0BEC5",
                "#B0BEC5",
                "#B0BEC5",
                "#B0BEC5",
                "#B0BEC5"
               ]
              ]
             }
            ],
            "label": "Topic 1",
            "method": "update"
           },
           {
            "args": [
             {
              "marker.color": [
               [
                "#B0BEC5",
                "#B0BEC5",
                "red",
                "#B0BEC5",
                "#B0BEC5",
                "#B0BEC5",
                "#B0BEC5",
                "#B0BEC5",
                "#B0BEC5",
                "#B0BEC5",
                "#B0BEC5",
                "#B0BEC5",
                "#B0BEC5",
                "#B0BEC5",
                "#B0BEC5",
                "#B0BEC5",
                "#B0BEC5",
                "#B0BEC5",
                "#B0BEC5",
                "#B0BEC5",
                "#B0BEC5",
                "#B0BEC5",
                "#B0BEC5",
                "#B0BEC5",
                "#B0BEC5",
                "#B0BEC5",
                "#B0BEC5",
                "#B0BEC5",
                "#B0BEC5",
                "#B0BEC5"
               ]
              ]
             }
            ],
            "label": "Topic 2",
            "method": "update"
           },
           {
            "args": [
             {
              "marker.color": [
               [
                "#B0BEC5",
                "#B0BEC5",
                "#B0BEC5",
                "red",
                "#B0BEC5",
                "#B0BEC5",
                "#B0BEC5",
                "#B0BEC5",
                "#B0BEC5",
                "#B0BEC5",
                "#B0BEC5",
                "#B0BEC5",
                "#B0BEC5",
                "#B0BEC5",
                "#B0BEC5",
                "#B0BEC5",
                "#B0BEC5",
                "#B0BEC5",
                "#B0BEC5",
                "#B0BEC5",
                "#B0BEC5",
                "#B0BEC5",
                "#B0BEC5",
                "#B0BEC5",
                "#B0BEC5",
                "#B0BEC5",
                "#B0BEC5",
                "#B0BEC5",
                "#B0BEC5",
                "#B0BEC5"
               ]
              ]
             }
            ],
            "label": "Topic 3",
            "method": "update"
           },
           {
            "args": [
             {
              "marker.color": [
               [
                "#B0BEC5",
                "#B0BEC5",
                "#B0BEC5",
                "#B0BEC5",
                "red",
                "#B0BEC5",
                "#B0BEC5",
                "#B0BEC5",
                "#B0BEC5",
                "#B0BEC5",
                "#B0BEC5",
                "#B0BEC5",
                "#B0BEC5",
                "#B0BEC5",
                "#B0BEC5",
                "#B0BEC5",
                "#B0BEC5",
                "#B0BEC5",
                "#B0BEC5",
                "#B0BEC5",
                "#B0BEC5",
                "#B0BEC5",
                "#B0BEC5",
                "#B0BEC5",
                "#B0BEC5",
                "#B0BEC5",
                "#B0BEC5",
                "#B0BEC5",
                "#B0BEC5",
                "#B0BEC5"
               ]
              ]
             }
            ],
            "label": "Topic 4",
            "method": "update"
           },
           {
            "args": [
             {
              "marker.color": [
               [
                "#B0BEC5",
                "#B0BEC5",
                "#B0BEC5",
                "#B0BEC5",
                "#B0BEC5",
                "red",
                "#B0BEC5",
                "#B0BEC5",
                "#B0BEC5",
                "#B0BEC5",
                "#B0BEC5",
                "#B0BEC5",
                "#B0BEC5",
                "#B0BEC5",
                "#B0BEC5",
                "#B0BEC5",
                "#B0BEC5",
                "#B0BEC5",
                "#B0BEC5",
                "#B0BEC5",
                "#B0BEC5",
                "#B0BEC5",
                "#B0BEC5",
                "#B0BEC5",
                "#B0BEC5",
                "#B0BEC5",
                "#B0BEC5",
                "#B0BEC5",
                "#B0BEC5",
                "#B0BEC5"
               ]
              ]
             }
            ],
            "label": "Topic 5",
            "method": "update"
           },
           {
            "args": [
             {
              "marker.color": [
               [
                "#B0BEC5",
                "#B0BEC5",
                "#B0BEC5",
                "#B0BEC5",
                "#B0BEC5",
                "#B0BEC5",
                "red",
                "#B0BEC5",
                "#B0BEC5",
                "#B0BEC5",
                "#B0BEC5",
                "#B0BEC5",
                "#B0BEC5",
                "#B0BEC5",
                "#B0BEC5",
                "#B0BEC5",
                "#B0BEC5",
                "#B0BEC5",
                "#B0BEC5",
                "#B0BEC5",
                "#B0BEC5",
                "#B0BEC5",
                "#B0BEC5",
                "#B0BEC5",
                "#B0BEC5",
                "#B0BEC5",
                "#B0BEC5",
                "#B0BEC5",
                "#B0BEC5",
                "#B0BEC5"
               ]
              ]
             }
            ],
            "label": "Topic 6",
            "method": "update"
           },
           {
            "args": [
             {
              "marker.color": [
               [
                "#B0BEC5",
                "#B0BEC5",
                "#B0BEC5",
                "#B0BEC5",
                "#B0BEC5",
                "#B0BEC5",
                "#B0BEC5",
                "red",
                "#B0BEC5",
                "#B0BEC5",
                "#B0BEC5",
                "#B0BEC5",
                "#B0BEC5",
                "#B0BEC5",
                "#B0BEC5",
                "#B0BEC5",
                "#B0BEC5",
                "#B0BEC5",
                "#B0BEC5",
                "#B0BEC5",
                "#B0BEC5",
                "#B0BEC5",
                "#B0BEC5",
                "#B0BEC5",
                "#B0BEC5",
                "#B0BEC5",
                "#B0BEC5",
                "#B0BEC5",
                "#B0BEC5",
                "#B0BEC5"
               ]
              ]
             }
            ],
            "label": "Topic 7",
            "method": "update"
           },
           {
            "args": [
             {
              "marker.color": [
               [
                "#B0BEC5",
                "#B0BEC5",
                "#B0BEC5",
                "#B0BEC5",
                "#B0BEC5",
                "#B0BEC5",
                "#B0BEC5",
                "#B0BEC5",
                "red",
                "#B0BEC5",
                "#B0BEC5",
                "#B0BEC5",
                "#B0BEC5",
                "#B0BEC5",
                "#B0BEC5",
                "#B0BEC5",
                "#B0BEC5",
                "#B0BEC5",
                "#B0BEC5",
                "#B0BEC5",
                "#B0BEC5",
                "#B0BEC5",
                "#B0BEC5",
                "#B0BEC5",
                "#B0BEC5",
                "#B0BEC5",
                "#B0BEC5",
                "#B0BEC5",
                "#B0BEC5",
                "#B0BEC5"
               ]
              ]
             }
            ],
            "label": "Topic 8",
            "method": "update"
           },
           {
            "args": [
             {
              "marker.color": [
               [
                "#B0BEC5",
                "#B0BEC5",
                "#B0BEC5",
                "#B0BEC5",
                "#B0BEC5",
                "#B0BEC5",
                "#B0BEC5",
                "#B0BEC5",
                "#B0BEC5",
                "red",
                "#B0BEC5",
                "#B0BEC5",
                "#B0BEC5",
                "#B0BEC5",
                "#B0BEC5",
                "#B0BEC5",
                "#B0BEC5",
                "#B0BEC5",
                "#B0BEC5",
                "#B0BEC5",
                "#B0BEC5",
                "#B0BEC5",
                "#B0BEC5",
                "#B0BEC5",
                "#B0BEC5",
                "#B0BEC5",
                "#B0BEC5",
                "#B0BEC5",
                "#B0BEC5",
                "#B0BEC5"
               ]
              ]
             }
            ],
            "label": "Topic 9",
            "method": "update"
           },
           {
            "args": [
             {
              "marker.color": [
               [
                "#B0BEC5",
                "#B0BEC5",
                "#B0BEC5",
                "#B0BEC5",
                "#B0BEC5",
                "#B0BEC5",
                "#B0BEC5",
                "#B0BEC5",
                "#B0BEC5",
                "#B0BEC5",
                "red",
                "#B0BEC5",
                "#B0BEC5",
                "#B0BEC5",
                "#B0BEC5",
                "#B0BEC5",
                "#B0BEC5",
                "#B0BEC5",
                "#B0BEC5",
                "#B0BEC5",
                "#B0BEC5",
                "#B0BEC5",
                "#B0BEC5",
                "#B0BEC5",
                "#B0BEC5",
                "#B0BEC5",
                "#B0BEC5",
                "#B0BEC5",
                "#B0BEC5",
                "#B0BEC5"
               ]
              ]
             }
            ],
            "label": "Topic 10",
            "method": "update"
           },
           {
            "args": [
             {
              "marker.color": [
               [
                "#B0BEC5",
                "#B0BEC5",
                "#B0BEC5",
                "#B0BEC5",
                "#B0BEC5",
                "#B0BEC5",
                "#B0BEC5",
                "#B0BEC5",
                "#B0BEC5",
                "#B0BEC5",
                "#B0BEC5",
                "red",
                "#B0BEC5",
                "#B0BEC5",
                "#B0BEC5",
                "#B0BEC5",
                "#B0BEC5",
                "#B0BEC5",
                "#B0BEC5",
                "#B0BEC5",
                "#B0BEC5",
                "#B0BEC5",
                "#B0BEC5",
                "#B0BEC5",
                "#B0BEC5",
                "#B0BEC5",
                "#B0BEC5",
                "#B0BEC5",
                "#B0BEC5",
                "#B0BEC5"
               ]
              ]
             }
            ],
            "label": "Topic 11",
            "method": "update"
           },
           {
            "args": [
             {
              "marker.color": [
               [
                "#B0BEC5",
                "#B0BEC5",
                "#B0BEC5",
                "#B0BEC5",
                "#B0BEC5",
                "#B0BEC5",
                "#B0BEC5",
                "#B0BEC5",
                "#B0BEC5",
                "#B0BEC5",
                "#B0BEC5",
                "#B0BEC5",
                "red",
                "#B0BEC5",
                "#B0BEC5",
                "#B0BEC5",
                "#B0BEC5",
                "#B0BEC5",
                "#B0BEC5",
                "#B0BEC5",
                "#B0BEC5",
                "#B0BEC5",
                "#B0BEC5",
                "#B0BEC5",
                "#B0BEC5",
                "#B0BEC5",
                "#B0BEC5",
                "#B0BEC5",
                "#B0BEC5",
                "#B0BEC5"
               ]
              ]
             }
            ],
            "label": "Topic 12",
            "method": "update"
           },
           {
            "args": [
             {
              "marker.color": [
               [
                "#B0BEC5",
                "#B0BEC5",
                "#B0BEC5",
                "#B0BEC5",
                "#B0BEC5",
                "#B0BEC5",
                "#B0BEC5",
                "#B0BEC5",
                "#B0BEC5",
                "#B0BEC5",
                "#B0BEC5",
                "#B0BEC5",
                "#B0BEC5",
                "red",
                "#B0BEC5",
                "#B0BEC5",
                "#B0BEC5",
                "#B0BEC5",
                "#B0BEC5",
                "#B0BEC5",
                "#B0BEC5",
                "#B0BEC5",
                "#B0BEC5",
                "#B0BEC5",
                "#B0BEC5",
                "#B0BEC5",
                "#B0BEC5",
                "#B0BEC5",
                "#B0BEC5",
                "#B0BEC5"
               ]
              ]
             }
            ],
            "label": "Topic 13",
            "method": "update"
           },
           {
            "args": [
             {
              "marker.color": [
               [
                "#B0BEC5",
                "#B0BEC5",
                "#B0BEC5",
                "#B0BEC5",
                "#B0BEC5",
                "#B0BEC5",
                "#B0BEC5",
                "#B0BEC5",
                "#B0BEC5",
                "#B0BEC5",
                "#B0BEC5",
                "#B0BEC5",
                "#B0BEC5",
                "#B0BEC5",
                "red",
                "#B0BEC5",
                "#B0BEC5",
                "#B0BEC5",
                "#B0BEC5",
                "#B0BEC5",
                "#B0BEC5",
                "#B0BEC5",
                "#B0BEC5",
                "#B0BEC5",
                "#B0BEC5",
                "#B0BEC5",
                "#B0BEC5",
                "#B0BEC5",
                "#B0BEC5",
                "#B0BEC5"
               ]
              ]
             }
            ],
            "label": "Topic 14",
            "method": "update"
           },
           {
            "args": [
             {
              "marker.color": [
               [
                "#B0BEC5",
                "#B0BEC5",
                "#B0BEC5",
                "#B0BEC5",
                "#B0BEC5",
                "#B0BEC5",
                "#B0BEC5",
                "#B0BEC5",
                "#B0BEC5",
                "#B0BEC5",
                "#B0BEC5",
                "#B0BEC5",
                "#B0BEC5",
                "#B0BEC5",
                "#B0BEC5",
                "red",
                "#B0BEC5",
                "#B0BEC5",
                "#B0BEC5",
                "#B0BEC5",
                "#B0BEC5",
                "#B0BEC5",
                "#B0BEC5",
                "#B0BEC5",
                "#B0BEC5",
                "#B0BEC5",
                "#B0BEC5",
                "#B0BEC5",
                "#B0BEC5",
                "#B0BEC5"
               ]
              ]
             }
            ],
            "label": "Topic 15",
            "method": "update"
           },
           {
            "args": [
             {
              "marker.color": [
               [
                "#B0BEC5",
                "#B0BEC5",
                "#B0BEC5",
                "#B0BEC5",
                "#B0BEC5",
                "#B0BEC5",
                "#B0BEC5",
                "#B0BEC5",
                "#B0BEC5",
                "#B0BEC5",
                "#B0BEC5",
                "#B0BEC5",
                "#B0BEC5",
                "#B0BEC5",
                "#B0BEC5",
                "#B0BEC5",
                "red",
                "#B0BEC5",
                "#B0BEC5",
                "#B0BEC5",
                "#B0BEC5",
                "#B0BEC5",
                "#B0BEC5",
                "#B0BEC5",
                "#B0BEC5",
                "#B0BEC5",
                "#B0BEC5",
                "#B0BEC5",
                "#B0BEC5",
                "#B0BEC5"
               ]
              ]
             }
            ],
            "label": "Topic 16",
            "method": "update"
           },
           {
            "args": [
             {
              "marker.color": [
               [
                "#B0BEC5",
                "#B0BEC5",
                "#B0BEC5",
                "#B0BEC5",
                "#B0BEC5",
                "#B0BEC5",
                "#B0BEC5",
                "#B0BEC5",
                "#B0BEC5",
                "#B0BEC5",
                "#B0BEC5",
                "#B0BEC5",
                "#B0BEC5",
                "#B0BEC5",
                "#B0BEC5",
                "#B0BEC5",
                "#B0BEC5",
                "red",
                "#B0BEC5",
                "#B0BEC5",
                "#B0BEC5",
                "#B0BEC5",
                "#B0BEC5",
                "#B0BEC5",
                "#B0BEC5",
                "#B0BEC5",
                "#B0BEC5",
                "#B0BEC5",
                "#B0BEC5",
                "#B0BEC5"
               ]
              ]
             }
            ],
            "label": "Topic 17",
            "method": "update"
           },
           {
            "args": [
             {
              "marker.color": [
               [
                "#B0BEC5",
                "#B0BEC5",
                "#B0BEC5",
                "#B0BEC5",
                "#B0BEC5",
                "#B0BEC5",
                "#B0BEC5",
                "#B0BEC5",
                "#B0BEC5",
                "#B0BEC5",
                "#B0BEC5",
                "#B0BEC5",
                "#B0BEC5",
                "#B0BEC5",
                "#B0BEC5",
                "#B0BEC5",
                "#B0BEC5",
                "#B0BEC5",
                "red",
                "#B0BEC5",
                "#B0BEC5",
                "#B0BEC5",
                "#B0BEC5",
                "#B0BEC5",
                "#B0BEC5",
                "#B0BEC5",
                "#B0BEC5",
                "#B0BEC5",
                "#B0BEC5",
                "#B0BEC5"
               ]
              ]
             }
            ],
            "label": "Topic 18",
            "method": "update"
           },
           {
            "args": [
             {
              "marker.color": [
               [
                "#B0BEC5",
                "#B0BEC5",
                "#B0BEC5",
                "#B0BEC5",
                "#B0BEC5",
                "#B0BEC5",
                "#B0BEC5",
                "#B0BEC5",
                "#B0BEC5",
                "#B0BEC5",
                "#B0BEC5",
                "#B0BEC5",
                "#B0BEC5",
                "#B0BEC5",
                "#B0BEC5",
                "#B0BEC5",
                "#B0BEC5",
                "#B0BEC5",
                "#B0BEC5",
                "red",
                "#B0BEC5",
                "#B0BEC5",
                "#B0BEC5",
                "#B0BEC5",
                "#B0BEC5",
                "#B0BEC5",
                "#B0BEC5",
                "#B0BEC5",
                "#B0BEC5",
                "#B0BEC5"
               ]
              ]
             }
            ],
            "label": "Topic 19",
            "method": "update"
           },
           {
            "args": [
             {
              "marker.color": [
               [
                "#B0BEC5",
                "#B0BEC5",
                "#B0BEC5",
                "#B0BEC5",
                "#B0BEC5",
                "#B0BEC5",
                "#B0BEC5",
                "#B0BEC5",
                "#B0BEC5",
                "#B0BEC5",
                "#B0BEC5",
                "#B0BEC5",
                "#B0BEC5",
                "#B0BEC5",
                "#B0BEC5",
                "#B0BEC5",
                "#B0BEC5",
                "#B0BEC5",
                "#B0BEC5",
                "#B0BEC5",
                "red",
                "#B0BEC5",
                "#B0BEC5",
                "#B0BEC5",
                "#B0BEC5",
                "#B0BEC5",
                "#B0BEC5",
                "#B0BEC5",
                "#B0BEC5",
                "#B0BEC5"
               ]
              ]
             }
            ],
            "label": "Topic 20",
            "method": "update"
           },
           {
            "args": [
             {
              "marker.color": [
               [
                "#B0BEC5",
                "#B0BEC5",
                "#B0BEC5",
                "#B0BEC5",
                "#B0BEC5",
                "#B0BEC5",
                "#B0BEC5",
                "#B0BEC5",
                "#B0BEC5",
                "#B0BEC5",
                "#B0BEC5",
                "#B0BEC5",
                "#B0BEC5",
                "#B0BEC5",
                "#B0BEC5",
                "#B0BEC5",
                "#B0BEC5",
                "#B0BEC5",
                "#B0BEC5",
                "#B0BEC5",
                "#B0BEC5",
                "red",
                "#B0BEC5",
                "#B0BEC5",
                "#B0BEC5",
                "#B0BEC5",
                "#B0BEC5",
                "#B0BEC5",
                "#B0BEC5",
                "#B0BEC5"
               ]
              ]
             }
            ],
            "label": "Topic 21",
            "method": "update"
           },
           {
            "args": [
             {
              "marker.color": [
               [
                "#B0BEC5",
                "#B0BEC5",
                "#B0BEC5",
                "#B0BEC5",
                "#B0BEC5",
                "#B0BEC5",
                "#B0BEC5",
                "#B0BEC5",
                "#B0BEC5",
                "#B0BEC5",
                "#B0BEC5",
                "#B0BEC5",
                "#B0BEC5",
                "#B0BEC5",
                "#B0BEC5",
                "#B0BEC5",
                "#B0BEC5",
                "#B0BEC5",
                "#B0BEC5",
                "#B0BEC5",
                "#B0BEC5",
                "#B0BEC5",
                "red",
                "#B0BEC5",
                "#B0BEC5",
                "#B0BEC5",
                "#B0BEC5",
                "#B0BEC5",
                "#B0BEC5",
                "#B0BEC5"
               ]
              ]
             }
            ],
            "label": "Topic 22",
            "method": "update"
           },
           {
            "args": [
             {
              "marker.color": [
               [
                "#B0BEC5",
                "#B0BEC5",
                "#B0BEC5",
                "#B0BEC5",
                "#B0BEC5",
                "#B0BEC5",
                "#B0BEC5",
                "#B0BEC5",
                "#B0BEC5",
                "#B0BEC5",
                "#B0BEC5",
                "#B0BEC5",
                "#B0BEC5",
                "#B0BEC5",
                "#B0BEC5",
                "#B0BEC5",
                "#B0BEC5",
                "#B0BEC5",
                "#B0BEC5",
                "#B0BEC5",
                "#B0BEC5",
                "#B0BEC5",
                "#B0BEC5",
                "red",
                "#B0BEC5",
                "#B0BEC5",
                "#B0BEC5",
                "#B0BEC5",
                "#B0BEC5",
                "#B0BEC5"
               ]
              ]
             }
            ],
            "label": "Topic 23",
            "method": "update"
           },
           {
            "args": [
             {
              "marker.color": [
               [
                "#B0BEC5",
                "#B0BEC5",
                "#B0BEC5",
                "#B0BEC5",
                "#B0BEC5",
                "#B0BEC5",
                "#B0BEC5",
                "#B0BEC5",
                "#B0BEC5",
                "#B0BEC5",
                "#B0BEC5",
                "#B0BEC5",
                "#B0BEC5",
                "#B0BEC5",
                "#B0BEC5",
                "#B0BEC5",
                "#B0BEC5",
                "#B0BEC5",
                "#B0BEC5",
                "#B0BEC5",
                "#B0BEC5",
                "#B0BEC5",
                "#B0BEC5",
                "#B0BEC5",
                "red",
                "#B0BEC5",
                "#B0BEC5",
                "#B0BEC5",
                "#B0BEC5",
                "#B0BEC5"
               ]
              ]
             }
            ],
            "label": "Topic 24",
            "method": "update"
           },
           {
            "args": [
             {
              "marker.color": [
               [
                "#B0BEC5",
                "#B0BEC5",
                "#B0BEC5",
                "#B0BEC5",
                "#B0BEC5",
                "#B0BEC5",
                "#B0BEC5",
                "#B0BEC5",
                "#B0BEC5",
                "#B0BEC5",
                "#B0BEC5",
                "#B0BEC5",
                "#B0BEC5",
                "#B0BEC5",
                "#B0BEC5",
                "#B0BEC5",
                "#B0BEC5",
                "#B0BEC5",
                "#B0BEC5",
                "#B0BEC5",
                "#B0BEC5",
                "#B0BEC5",
                "#B0BEC5",
                "#B0BEC5",
                "#B0BEC5",
                "red",
                "#B0BEC5",
                "#B0BEC5",
                "#B0BEC5",
                "#B0BEC5"
               ]
              ]
             }
            ],
            "label": "Topic 25",
            "method": "update"
           },
           {
            "args": [
             {
              "marker.color": [
               [
                "#B0BEC5",
                "#B0BEC5",
                "#B0BEC5",
                "#B0BEC5",
                "#B0BEC5",
                "#B0BEC5",
                "#B0BEC5",
                "#B0BEC5",
                "#B0BEC5",
                "#B0BEC5",
                "#B0BEC5",
                "#B0BEC5",
                "#B0BEC5",
                "#B0BEC5",
                "#B0BEC5",
                "#B0BEC5",
                "#B0BEC5",
                "#B0BEC5",
                "#B0BEC5",
                "#B0BEC5",
                "#B0BEC5",
                "#B0BEC5",
                "#B0BEC5",
                "#B0BEC5",
                "#B0BEC5",
                "#B0BEC5",
                "red",
                "#B0BEC5",
                "#B0BEC5",
                "#B0BEC5"
               ]
              ]
             }
            ],
            "label": "Topic 26",
            "method": "update"
           },
           {
            "args": [
             {
              "marker.color": [
               [
                "#B0BEC5",
                "#B0BEC5",
                "#B0BEC5",
                "#B0BEC5",
                "#B0BEC5",
                "#B0BEC5",
                "#B0BEC5",
                "#B0BEC5",
                "#B0BEC5",
                "#B0BEC5",
                "#B0BEC5",
                "#B0BEC5",
                "#B0BEC5",
                "#B0BEC5",
                "#B0BEC5",
                "#B0BEC5",
                "#B0BEC5",
                "#B0BEC5",
                "#B0BEC5",
                "#B0BEC5",
                "#B0BEC5",
                "#B0BEC5",
                "#B0BEC5",
                "#B0BEC5",
                "#B0BEC5",
                "#B0BEC5",
                "#B0BEC5",
                "red",
                "#B0BEC5",
                "#B0BEC5"
               ]
              ]
             }
            ],
            "label": "Topic 27",
            "method": "update"
           },
           {
            "args": [
             {
              "marker.color": [
               [
                "#B0BEC5",
                "#B0BEC5",
                "#B0BEC5",
                "#B0BEC5",
                "#B0BEC5",
                "#B0BEC5",
                "#B0BEC5",
                "#B0BEC5",
                "#B0BEC5",
                "#B0BEC5",
                "#B0BEC5",
                "#B0BEC5",
                "#B0BEC5",
                "#B0BEC5",
                "#B0BEC5",
                "#B0BEC5",
                "#B0BEC5",
                "#B0BEC5",
                "#B0BEC5",
                "#B0BEC5",
                "#B0BEC5",
                "#B0BEC5",
                "#B0BEC5",
                "#B0BEC5",
                "#B0BEC5",
                "#B0BEC5",
                "#B0BEC5",
                "#B0BEC5",
                "red",
                "#B0BEC5"
               ]
              ]
             }
            ],
            "label": "Topic 28",
            "method": "update"
           },
           {
            "args": [
             {
              "marker.color": [
               [
                "#B0BEC5",
                "#B0BEC5",
                "#B0BEC5",
                "#B0BEC5",
                "#B0BEC5",
                "#B0BEC5",
                "#B0BEC5",
                "#B0BEC5",
                "#B0BEC5",
                "#B0BEC5",
                "#B0BEC5",
                "#B0BEC5",
                "#B0BEC5",
                "#B0BEC5",
                "#B0BEC5",
                "#B0BEC5",
                "#B0BEC5",
                "#B0BEC5",
                "#B0BEC5",
                "#B0BEC5",
                "#B0BEC5",
                "#B0BEC5",
                "#B0BEC5",
                "#B0BEC5",
                "#B0BEC5",
                "#B0BEC5",
                "#B0BEC5",
                "#B0BEC5",
                "#B0BEC5",
                "red"
               ]
              ]
             }
            ],
            "label": "Topic 29",
            "method": "update"
           }
          ]
         }
        ],
        "template": {
         "data": {
          "bar": [
           {
            "error_x": {
             "color": "rgb(36,36,36)"
            },
            "error_y": {
             "color": "rgb(36,36,36)"
            },
            "marker": {
             "line": {
              "color": "white",
              "width": 0.5
             },
             "pattern": {
              "fillmode": "overlay",
              "size": 10,
              "solidity": 0.2
             }
            },
            "type": "bar"
           }
          ],
          "barpolar": [
           {
            "marker": {
             "line": {
              "color": "white",
              "width": 0.5
             },
             "pattern": {
              "fillmode": "overlay",
              "size": 10,
              "solidity": 0.2
             }
            },
            "type": "barpolar"
           }
          ],
          "carpet": [
           {
            "aaxis": {
             "endlinecolor": "rgb(36,36,36)",
             "gridcolor": "white",
             "linecolor": "white",
             "minorgridcolor": "white",
             "startlinecolor": "rgb(36,36,36)"
            },
            "baxis": {
             "endlinecolor": "rgb(36,36,36)",
             "gridcolor": "white",
             "linecolor": "white",
             "minorgridcolor": "white",
             "startlinecolor": "rgb(36,36,36)"
            },
            "type": "carpet"
           }
          ],
          "choropleth": [
           {
            "colorbar": {
             "outlinewidth": 1,
             "tickcolor": "rgb(36,36,36)",
             "ticks": "outside"
            },
            "type": "choropleth"
           }
          ],
          "contour": [
           {
            "colorbar": {
             "outlinewidth": 1,
             "tickcolor": "rgb(36,36,36)",
             "ticks": "outside"
            },
            "colorscale": [
             [
              0,
              "#440154"
             ],
             [
              0.1111111111111111,
              "#482878"
             ],
             [
              0.2222222222222222,
              "#3e4989"
             ],
             [
              0.3333333333333333,
              "#31688e"
             ],
             [
              0.4444444444444444,
              "#26828e"
             ],
             [
              0.5555555555555556,
              "#1f9e89"
             ],
             [
              0.6666666666666666,
              "#35b779"
             ],
             [
              0.7777777777777778,
              "#6ece58"
             ],
             [
              0.8888888888888888,
              "#b5de2b"
             ],
             [
              1,
              "#fde725"
             ]
            ],
            "type": "contour"
           }
          ],
          "contourcarpet": [
           {
            "colorbar": {
             "outlinewidth": 1,
             "tickcolor": "rgb(36,36,36)",
             "ticks": "outside"
            },
            "type": "contourcarpet"
           }
          ],
          "heatmap": [
           {
            "colorbar": {
             "outlinewidth": 1,
             "tickcolor": "rgb(36,36,36)",
             "ticks": "outside"
            },
            "colorscale": [
             [
              0,
              "#440154"
             ],
             [
              0.1111111111111111,
              "#482878"
             ],
             [
              0.2222222222222222,
              "#3e4989"
             ],
             [
              0.3333333333333333,
              "#31688e"
             ],
             [
              0.4444444444444444,
              "#26828e"
             ],
             [
              0.5555555555555556,
              "#1f9e89"
             ],
             [
              0.6666666666666666,
              "#35b779"
             ],
             [
              0.7777777777777778,
              "#6ece58"
             ],
             [
              0.8888888888888888,
              "#b5de2b"
             ],
             [
              1,
              "#fde725"
             ]
            ],
            "type": "heatmap"
           }
          ],
          "heatmapgl": [
           {
            "colorbar": {
             "outlinewidth": 1,
             "tickcolor": "rgb(36,36,36)",
             "ticks": "outside"
            },
            "colorscale": [
             [
              0,
              "#440154"
             ],
             [
              0.1111111111111111,
              "#482878"
             ],
             [
              0.2222222222222222,
              "#3e4989"
             ],
             [
              0.3333333333333333,
              "#31688e"
             ],
             [
              0.4444444444444444,
              "#26828e"
             ],
             [
              0.5555555555555556,
              "#1f9e89"
             ],
             [
              0.6666666666666666,
              "#35b779"
             ],
             [
              0.7777777777777778,
              "#6ece58"
             ],
             [
              0.8888888888888888,
              "#b5de2b"
             ],
             [
              1,
              "#fde725"
             ]
            ],
            "type": "heatmapgl"
           }
          ],
          "histogram": [
           {
            "marker": {
             "line": {
              "color": "white",
              "width": 0.6
             }
            },
            "type": "histogram"
           }
          ],
          "histogram2d": [
           {
            "colorbar": {
             "outlinewidth": 1,
             "tickcolor": "rgb(36,36,36)",
             "ticks": "outside"
            },
            "colorscale": [
             [
              0,
              "#440154"
             ],
             [
              0.1111111111111111,
              "#482878"
             ],
             [
              0.2222222222222222,
              "#3e4989"
             ],
             [
              0.3333333333333333,
              "#31688e"
             ],
             [
              0.4444444444444444,
              "#26828e"
             ],
             [
              0.5555555555555556,
              "#1f9e89"
             ],
             [
              0.6666666666666666,
              "#35b779"
             ],
             [
              0.7777777777777778,
              "#6ece58"
             ],
             [
              0.8888888888888888,
              "#b5de2b"
             ],
             [
              1,
              "#fde725"
             ]
            ],
            "type": "histogram2d"
           }
          ],
          "histogram2dcontour": [
           {
            "colorbar": {
             "outlinewidth": 1,
             "tickcolor": "rgb(36,36,36)",
             "ticks": "outside"
            },
            "colorscale": [
             [
              0,
              "#440154"
             ],
             [
              0.1111111111111111,
              "#482878"
             ],
             [
              0.2222222222222222,
              "#3e4989"
             ],
             [
              0.3333333333333333,
              "#31688e"
             ],
             [
              0.4444444444444444,
              "#26828e"
             ],
             [
              0.5555555555555556,
              "#1f9e89"
             ],
             [
              0.6666666666666666,
              "#35b779"
             ],
             [
              0.7777777777777778,
              "#6ece58"
             ],
             [
              0.8888888888888888,
              "#b5de2b"
             ],
             [
              1,
              "#fde725"
             ]
            ],
            "type": "histogram2dcontour"
           }
          ],
          "mesh3d": [
           {
            "colorbar": {
             "outlinewidth": 1,
             "tickcolor": "rgb(36,36,36)",
             "ticks": "outside"
            },
            "type": "mesh3d"
           }
          ],
          "parcoords": [
           {
            "line": {
             "colorbar": {
              "outlinewidth": 1,
              "tickcolor": "rgb(36,36,36)",
              "ticks": "outside"
             }
            },
            "type": "parcoords"
           }
          ],
          "pie": [
           {
            "automargin": true,
            "type": "pie"
           }
          ],
          "scatter": [
           {
            "fillpattern": {
             "fillmode": "overlay",
             "size": 10,
             "solidity": 0.2
            },
            "type": "scatter"
           }
          ],
          "scatter3d": [
           {
            "line": {
             "colorbar": {
              "outlinewidth": 1,
              "tickcolor": "rgb(36,36,36)",
              "ticks": "outside"
             }
            },
            "marker": {
             "colorbar": {
              "outlinewidth": 1,
              "tickcolor": "rgb(36,36,36)",
              "ticks": "outside"
             }
            },
            "type": "scatter3d"
           }
          ],
          "scattercarpet": [
           {
            "marker": {
             "colorbar": {
              "outlinewidth": 1,
              "tickcolor": "rgb(36,36,36)",
              "ticks": "outside"
             }
            },
            "type": "scattercarpet"
           }
          ],
          "scattergeo": [
           {
            "marker": {
             "colorbar": {
              "outlinewidth": 1,
              "tickcolor": "rgb(36,36,36)",
              "ticks": "outside"
             }
            },
            "type": "scattergeo"
           }
          ],
          "scattergl": [
           {
            "marker": {
             "colorbar": {
              "outlinewidth": 1,
              "tickcolor": "rgb(36,36,36)",
              "ticks": "outside"
             }
            },
            "type": "scattergl"
           }
          ],
          "scattermapbox": [
           {
            "marker": {
             "colorbar": {
              "outlinewidth": 1,
              "tickcolor": "rgb(36,36,36)",
              "ticks": "outside"
             }
            },
            "type": "scattermapbox"
           }
          ],
          "scatterpolar": [
           {
            "marker": {
             "colorbar": {
              "outlinewidth": 1,
              "tickcolor": "rgb(36,36,36)",
              "ticks": "outside"
             }
            },
            "type": "scatterpolar"
           }
          ],
          "scatterpolargl": [
           {
            "marker": {
             "colorbar": {
              "outlinewidth": 1,
              "tickcolor": "rgb(36,36,36)",
              "ticks": "outside"
             }
            },
            "type": "scatterpolargl"
           }
          ],
          "scatterternary": [
           {
            "marker": {
             "colorbar": {
              "outlinewidth": 1,
              "tickcolor": "rgb(36,36,36)",
              "ticks": "outside"
             }
            },
            "type": "scatterternary"
           }
          ],
          "surface": [
           {
            "colorbar": {
             "outlinewidth": 1,
             "tickcolor": "rgb(36,36,36)",
             "ticks": "outside"
            },
            "colorscale": [
             [
              0,
              "#440154"
             ],
             [
              0.1111111111111111,
              "#482878"
             ],
             [
              0.2222222222222222,
              "#3e4989"
             ],
             [
              0.3333333333333333,
              "#31688e"
             ],
             [
              0.4444444444444444,
              "#26828e"
             ],
             [
              0.5555555555555556,
              "#1f9e89"
             ],
             [
              0.6666666666666666,
              "#35b779"
             ],
             [
              0.7777777777777778,
              "#6ece58"
             ],
             [
              0.8888888888888888,
              "#b5de2b"
             ],
             [
              1,
              "#fde725"
             ]
            ],
            "type": "surface"
           }
          ],
          "table": [
           {
            "cells": {
             "fill": {
              "color": "rgb(237,237,237)"
             },
             "line": {
              "color": "white"
             }
            },
            "header": {
             "fill": {
              "color": "rgb(217,217,217)"
             },
             "line": {
              "color": "white"
             }
            },
            "type": "table"
           }
          ]
         },
         "layout": {
          "annotationdefaults": {
           "arrowhead": 0,
           "arrowwidth": 1
          },
          "autotypenumbers": "strict",
          "coloraxis": {
           "colorbar": {
            "outlinewidth": 1,
            "tickcolor": "rgb(36,36,36)",
            "ticks": "outside"
           }
          },
          "colorscale": {
           "diverging": [
            [
             0,
             "rgb(103,0,31)"
            ],
            [
             0.1,
             "rgb(178,24,43)"
            ],
            [
             0.2,
             "rgb(214,96,77)"
            ],
            [
             0.3,
             "rgb(244,165,130)"
            ],
            [
             0.4,
             "rgb(253,219,199)"
            ],
            [
             0.5,
             "rgb(247,247,247)"
            ],
            [
             0.6,
             "rgb(209,229,240)"
            ],
            [
             0.7,
             "rgb(146,197,222)"
            ],
            [
             0.8,
             "rgb(67,147,195)"
            ],
            [
             0.9,
             "rgb(33,102,172)"
            ],
            [
             1,
             "rgb(5,48,97)"
            ]
           ],
           "sequential": [
            [
             0,
             "#440154"
            ],
            [
             0.1111111111111111,
             "#482878"
            ],
            [
             0.2222222222222222,
             "#3e4989"
            ],
            [
             0.3333333333333333,
             "#31688e"
            ],
            [
             0.4444444444444444,
             "#26828e"
            ],
            [
             0.5555555555555556,
             "#1f9e89"
            ],
            [
             0.6666666666666666,
             "#35b779"
            ],
            [
             0.7777777777777778,
             "#6ece58"
            ],
            [
             0.8888888888888888,
             "#b5de2b"
            ],
            [
             1,
             "#fde725"
            ]
           ],
           "sequentialminus": [
            [
             0,
             "#440154"
            ],
            [
             0.1111111111111111,
             "#482878"
            ],
            [
             0.2222222222222222,
             "#3e4989"
            ],
            [
             0.3333333333333333,
             "#31688e"
            ],
            [
             0.4444444444444444,
             "#26828e"
            ],
            [
             0.5555555555555556,
             "#1f9e89"
            ],
            [
             0.6666666666666666,
             "#35b779"
            ],
            [
             0.7777777777777778,
             "#6ece58"
            ],
            [
             0.8888888888888888,
             "#b5de2b"
            ],
            [
             1,
             "#fde725"
            ]
           ]
          },
          "colorway": [
           "#1F77B4",
           "#FF7F0E",
           "#2CA02C",
           "#D62728",
           "#9467BD",
           "#8C564B",
           "#E377C2",
           "#7F7F7F",
           "#BCBD22",
           "#17BECF"
          ],
          "font": {
           "color": "rgb(36,36,36)"
          },
          "geo": {
           "bgcolor": "white",
           "lakecolor": "white",
           "landcolor": "white",
           "showlakes": true,
           "showland": true,
           "subunitcolor": "white"
          },
          "hoverlabel": {
           "align": "left"
          },
          "hovermode": "closest",
          "mapbox": {
           "style": "light"
          },
          "paper_bgcolor": "white",
          "plot_bgcolor": "white",
          "polar": {
           "angularaxis": {
            "gridcolor": "rgb(232,232,232)",
            "linecolor": "rgb(36,36,36)",
            "showgrid": false,
            "showline": true,
            "ticks": "outside"
           },
           "bgcolor": "white",
           "radialaxis": {
            "gridcolor": "rgb(232,232,232)",
            "linecolor": "rgb(36,36,36)",
            "showgrid": false,
            "showline": true,
            "ticks": "outside"
           }
          },
          "scene": {
           "xaxis": {
            "backgroundcolor": "white",
            "gridcolor": "rgb(232,232,232)",
            "gridwidth": 2,
            "linecolor": "rgb(36,36,36)",
            "showbackground": true,
            "showgrid": false,
            "showline": true,
            "ticks": "outside",
            "zeroline": false,
            "zerolinecolor": "rgb(36,36,36)"
           },
           "yaxis": {
            "backgroundcolor": "white",
            "gridcolor": "rgb(232,232,232)",
            "gridwidth": 2,
            "linecolor": "rgb(36,36,36)",
            "showbackground": true,
            "showgrid": false,
            "showline": true,
            "ticks": "outside",
            "zeroline": false,
            "zerolinecolor": "rgb(36,36,36)"
           },
           "zaxis": {
            "backgroundcolor": "white",
            "gridcolor": "rgb(232,232,232)",
            "gridwidth": 2,
            "linecolor": "rgb(36,36,36)",
            "showbackground": true,
            "showgrid": false,
            "showline": true,
            "ticks": "outside",
            "zeroline": false,
            "zerolinecolor": "rgb(36,36,36)"
           }
          },
          "shapedefaults": {
           "fillcolor": "black",
           "line": {
            "width": 0
           },
           "opacity": 0.3
          },
          "ternary": {
           "aaxis": {
            "gridcolor": "rgb(232,232,232)",
            "linecolor": "rgb(36,36,36)",
            "showgrid": false,
            "showline": true,
            "ticks": "outside"
           },
           "baxis": {
            "gridcolor": "rgb(232,232,232)",
            "linecolor": "rgb(36,36,36)",
            "showgrid": false,
            "showline": true,
            "ticks": "outside"
           },
           "bgcolor": "white",
           "caxis": {
            "gridcolor": "rgb(232,232,232)",
            "linecolor": "rgb(36,36,36)",
            "showgrid": false,
            "showline": true,
            "ticks": "outside"
           }
          },
          "title": {
           "x": 0.05
          },
          "xaxis": {
           "automargin": true,
           "gridcolor": "rgb(232,232,232)",
           "linecolor": "rgb(36,36,36)",
           "showgrid": false,
           "showline": true,
           "ticks": "outside",
           "title": {
            "standoff": 15
           },
           "zeroline": false,
           "zerolinecolor": "rgb(36,36,36)"
          },
          "yaxis": {
           "automargin": true,
           "gridcolor": "rgb(232,232,232)",
           "linecolor": "rgb(36,36,36)",
           "showgrid": false,
           "showline": true,
           "ticks": "outside",
           "title": {
            "standoff": 15
           },
           "zeroline": false,
           "zerolinecolor": "rgb(36,36,36)"
          }
         }
        },
        "title": {
         "font": {
          "color": "Black",
          "size": 22
         },
         "text": "<b>Intertopic Distance Map</b>",
         "x": 0.5,
         "xanchor": "center",
         "y": 0.95,
         "yanchor": "top"
        },
        "width": 650,
        "xaxis": {
         "anchor": "y",
         "domain": [
          0,
          1
         ],
         "range": [
          -22.25670747756958,
          15.596948480606079
         ],
         "title": {
          "text": ""
         },
         "visible": false
        },
        "yaxis": {
         "anchor": "x",
         "domain": [
          0,
          1
         ],
         "range": [
          -8.082564520835877,
          9.110819220542908
         ],
         "title": {
          "text": ""
         },
         "visible": false
        }
       }
      }
     },
     "metadata": {},
     "output_type": "display_data"
    }
   ],
   "source": [
    "# Visualize the topics\n",
    "topic_model.visualize_topics()"
   ]
  },
  {
   "cell_type": "code",
   "execution_count": 180,
   "metadata": {},
   "outputs": [],
   "source": [
    "long_lines_df_8_with_embeddings.to_csv('long_lines_with_embeddings.csv', index=False)"
   ]
  },
  {
   "cell_type": "code",
   "execution_count": 214,
   "metadata": {},
   "outputs": [
    {
     "data": {
      "text/plain": [
       "'Community Engagement and Public Outreach in Water Resource Management'"
      ]
     },
     "execution_count": 214,
     "metadata": {},
     "output_type": "execute_result"
    }
   ],
   "source": [
    "topic_model.get_topic(6)[0][0]\n"
   ]
  },
  {
   "cell_type": "code",
   "execution_count": 259,
   "metadata": {},
   "outputs": [
    {
     "name": "stdout",
     "output_type": "stream",
     "text": [
      "          date  topic  count\n",
      "0   2023-01-24      0     46\n",
      "1   2023-01-24      1      1\n",
      "2   2023-01-24      2      4\n",
      "3   2023-01-24      3      7\n",
      "4   2023-01-24      7     34\n",
      "5   2023-01-24      8      1\n",
      "6   2023-01-24      9      1\n",
      "7   2023-01-24     10      3\n",
      "8   2023-01-24     13      3\n",
      "9   2023-01-24     17      2\n",
      "10  2023-01-24     18      7\n",
      "11  2023-01-24     19      1\n",
      "12  2023-01-24     24     12\n",
      "13  2023-01-24     28      2\n",
      "14  2023-01-24     29      2\n",
      "15  2023-03-21      1     36\n",
      "16  2023-03-21      2      8\n",
      "17  2023-03-21      3      8\n",
      "18  2023-03-21      4     11\n",
      "19  2023-03-21      5      1\n",
      "20  2023-03-21      7      4\n",
      "21  2023-03-21      8     14\n",
      "22  2023-03-21      9      4\n",
      "23  2023-03-21     10      4\n",
      "24  2023-03-21     12      5\n",
      "25  2023-03-21     13      9\n",
      "26  2023-03-21     14      3\n",
      "27  2023-03-21     15     19\n",
      "28  2023-03-21     16      1\n",
      "29  2023-03-21     18      2\n",
      "30  2023-03-21     19      1\n",
      "31  2023-03-21     21      1\n",
      "32  2023-03-21     23      2\n",
      "33  2023-03-21     26      2\n",
      "34  2023-04-18      0     46\n",
      "35  2023-04-18      1     42\n",
      "36  2023-04-18      2      3\n",
      "37  2023-04-18      3     18\n",
      "38  2023-04-18      4     23\n",
      "39  2023-04-18      6      4\n",
      "40  2023-04-18      7      2\n",
      "41  2023-04-18      8     10\n",
      "42  2023-04-18      9      7\n",
      "43  2023-04-18     10      4\n",
      "44  2023-04-18     12      8\n",
      "45  2023-04-18     15      2\n",
      "46  2023-04-18     16      2\n",
      "47  2023-04-18     17      1\n",
      "48  2023-04-18     18      2\n",
      "49  2023-04-18     19     12\n",
      "50  2023-04-18     21      5\n",
      "51  2023-04-18     22      1\n",
      "52  2023-04-18     23      2\n",
      "53  2023-04-18     24      4\n",
      "54  2023-04-18     25      1\n",
      "55  2023-04-18     27      1\n",
      "56  2023-04-18     29      2\n",
      "57  2023-05-16      0      6\n",
      "58  2023-05-16      1     16\n",
      "59  2023-05-16      2     11\n",
      "60  2023-05-16      3     22\n",
      "61  2023-05-16      4     67\n",
      "62  2023-05-16      5      1\n",
      "63  2023-05-16      7     10\n",
      "64  2023-05-16      8     12\n",
      "65  2023-05-16      9     15\n",
      "66  2023-05-16     10      5\n",
      "67  2023-05-16     12      5\n",
      "68  2023-05-16     13      1\n",
      "69  2023-05-16     14      1\n",
      "70  2023-05-16     15      2\n",
      "71  2023-05-16     16      4\n",
      "72  2023-05-16     17      5\n",
      "73  2023-05-16     18     14\n",
      "74  2023-05-16     19      9\n",
      "75  2023-05-16     20      1\n",
      "76  2023-05-16     21      2\n",
      "77  2023-05-16     22      1\n",
      "78  2023-05-16     24      6\n",
      "79  2023-05-16     26      1\n",
      "80  2023-05-16     28      2\n",
      "81  2023-05-16     29      1\n",
      "82  2023-06-20      0     73\n",
      "83  2023-06-20      1      5\n",
      "84  2023-06-20      2     36\n",
      "85  2023-06-20      3     21\n",
      "86  2023-06-20      4     21\n",
      "87  2023-06-20      5      4\n",
      "88  2023-06-20      7      5\n",
      "89  2023-06-20      8      6\n",
      "90  2023-06-20      9      3\n",
      "91  2023-06-20     10      3\n",
      "92  2023-06-20     11      1\n",
      "93  2023-06-20     12      4\n",
      "94  2023-06-20     13     25\n",
      "95  2023-06-20     14      3\n",
      "96  2023-06-20     16     10\n",
      "97  2023-06-20     17     15\n",
      "98  2023-06-20     18      9\n",
      "99  2023-06-20     19     12\n",
      "100 2023-06-20     20      3\n",
      "101 2023-06-20     21      1\n",
      "102 2023-06-20     22      1\n",
      "103 2023-06-20     24      9\n",
      "104 2023-06-20     28      2\n",
      "105 2023-06-20     29      5\n",
      "106 2023-07-26      0     99\n",
      "107 2023-07-26      1      8\n",
      "108 2023-07-26      2     63\n",
      "109 2023-07-26      3     52\n",
      "110 2023-07-26      4     10\n",
      "111 2023-07-26      5      7\n",
      "112 2023-07-26      6      1\n",
      "113 2023-07-26      7      6\n",
      "114 2023-07-26      8     12\n",
      "115 2023-07-26      9     13\n",
      "116 2023-07-26     10     13\n",
      "117 2023-07-26     11      1\n",
      "118 2023-07-26     13      5\n",
      "119 2023-07-26     14      2\n",
      "120 2023-07-26     15      1\n",
      "121 2023-07-26     16      5\n",
      "122 2023-07-26     17     23\n",
      "123 2023-07-26     18     10\n",
      "124 2023-07-26     19     20\n",
      "125 2023-07-26     20     26\n",
      "126 2023-07-26     21      3\n",
      "127 2023-07-26     22      7\n",
      "128 2023-07-26     23      2\n",
      "129 2023-07-26     24     13\n",
      "130 2023-07-26     25      2\n",
      "131 2023-07-26     26      1\n",
      "132 2023-07-26     27      1\n",
      "133 2023-07-26     28     15\n",
      "134 2023-07-26     29     15\n",
      "135 2023-08-15      1     48\n",
      "136 2023-08-15      2     40\n",
      "137 2023-08-15      3     50\n",
      "138 2023-08-15      4      1\n",
      "139 2023-08-15      5      1\n",
      "140 2023-08-15      6      1\n",
      "141 2023-08-15      7      6\n",
      "142 2023-08-15      8     19\n",
      "143 2023-08-15      9      4\n",
      "144 2023-08-15     10      4\n",
      "145 2023-08-15     12      3\n",
      "146 2023-08-15     13      4\n",
      "147 2023-08-15     14      2\n",
      "148 2023-08-15     15     11\n",
      "149 2023-08-15     16      5\n",
      "150 2023-08-15     17      5\n",
      "151 2023-08-15     18      2\n",
      "152 2023-08-15     19      4\n",
      "153 2023-08-15     21      6\n",
      "154 2023-08-15     22      1\n",
      "155 2023-08-15     25      1\n",
      "156 2023-08-15     26      2\n",
      "157 2023-08-15     27      2\n",
      "158 2023-09-19      0     25\n",
      "159 2023-09-19      1     39\n",
      "160 2023-09-19      2     25\n",
      "161 2023-09-19      3     23\n",
      "162 2023-09-19      4     11\n",
      "163 2023-09-19      5      5\n",
      "164 2023-09-19      6     57\n",
      "165 2023-09-19      7     31\n",
      "166 2023-09-19      8      4\n",
      "167 2023-09-19      9      6\n",
      "168 2023-09-19     10      5\n",
      "169 2023-09-19     11      1\n",
      "170 2023-09-19     12      6\n",
      "171 2023-09-19     13      1\n",
      "172 2023-09-19     14      2\n",
      "173 2023-09-19     15      5\n",
      "174 2023-09-19     16      4\n",
      "175 2023-09-19     17      9\n",
      "176 2023-09-19     18      5\n",
      "177 2023-09-19     19      1\n",
      "178 2023-09-19     20      5\n",
      "179 2023-09-19     21      2\n",
      "180 2023-09-19     22      2\n",
      "181 2023-09-19     23      2\n",
      "182 2023-09-19     24      2\n",
      "183 2023-09-19     25      3\n",
      "184 2023-09-19     26      6\n",
      "185 2023-09-19     27      1\n",
      "186 2023-09-19     28      3\n",
      "187 2023-09-19     29      2\n",
      "188 2023-10-24      0     13\n",
      "189 2023-10-24      1     11\n",
      "190 2023-10-24      2      3\n",
      "191 2023-10-24      3     24\n",
      "192 2023-10-24      4     24\n",
      "193 2023-10-24      5      6\n",
      "194 2023-10-24      6     39\n",
      "195 2023-10-24      7      8\n",
      "196 2023-10-24      8      1\n",
      "197 2023-10-24      9      1\n",
      "198 2023-10-24     10      5\n",
      "199 2023-10-24     11      1\n",
      "200 2023-10-24     13      3\n",
      "201 2023-10-24     14      1\n",
      "202 2023-10-24     15      3\n",
      "203 2023-10-24     17      3\n",
      "204 2023-10-24     18      2\n",
      "205 2023-10-24     19      3\n",
      "206 2023-10-24     20      2\n",
      "207 2023-10-24     22      1\n",
      "208 2023-10-24     24      3\n",
      "209 2023-10-24     26      5\n",
      "210 2023-10-24     27      1\n",
      "211 2023-10-24     29      3\n",
      "212 2023-11-21      0     88\n",
      "213 2023-11-21      1     30\n",
      "214 2023-11-21      2     12\n",
      "215 2023-11-21      3     23\n",
      "216 2023-11-21      4      7\n",
      "217 2023-11-21      5      2\n",
      "218 2023-11-21      6      2\n",
      "219 2023-11-21      7      6\n",
      "220 2023-11-21      8      7\n",
      "221 2023-11-21      9     11\n",
      "222 2023-11-21     10      3\n",
      "223 2023-11-21     13      1\n",
      "224 2023-11-21     14      9\n",
      "225 2023-11-21     16      2\n",
      "226 2023-11-21     17      9\n",
      "227 2023-11-21     18      6\n",
      "228 2023-11-21     19     11\n",
      "229 2023-11-21     20      2\n",
      "230 2023-11-21     21      5\n",
      "231 2023-11-21     22      5\n",
      "232 2023-11-21     23     11\n",
      "233 2023-11-21     24      7\n",
      "234 2023-11-21     25      3\n",
      "235 2023-11-21     26      4\n",
      "236 2023-11-21     27      3\n",
      "237 2023-11-21     29      5\n",
      "238 2023-12-19      0      6\n",
      "239 2023-12-19      1     53\n",
      "240 2023-12-19      2     11\n",
      "241 2023-12-19      3     26\n",
      "242 2023-12-19      4      4\n",
      "243 2023-12-19      6      2\n",
      "244 2023-12-19      7      5\n",
      "245 2023-12-19      8     10\n",
      "246 2023-12-19      9     27\n",
      "247 2023-12-19     10      5\n",
      "248 2023-12-19     11      4\n",
      "249 2023-12-19     12      2\n",
      "250 2023-12-19     13     10\n",
      "251 2023-12-19     14     16\n",
      "252 2023-12-19     16      4\n",
      "253 2023-12-19     17     12\n",
      "254 2023-12-19     18      3\n",
      "255 2023-12-19     19      4\n",
      "256 2023-12-19     20      7\n",
      "257 2023-12-19     21      4\n",
      "258 2023-12-19     22      6\n",
      "259 2023-12-19     23      4\n",
      "260 2023-12-19     24      3\n",
      "261 2023-12-19     25      7\n",
      "262 2023-12-19     26      3\n",
      "263 2023-12-19     27      3\n",
      "264 2023-12-19     29      2\n",
      "265 2024-01-30      0      4\n",
      "266 2024-01-30      1     41\n",
      "267 2024-01-30      2     15\n",
      "268 2024-01-30      3      6\n",
      "269 2024-01-30      4     57\n",
      "270 2024-01-30      5     55\n",
      "271 2024-01-30      6      2\n",
      "272 2024-01-30      7      4\n",
      "273 2024-01-30      8     21\n",
      "274 2024-01-30      9      5\n",
      "275 2024-01-30     10      1\n",
      "276 2024-01-30     12     11\n",
      "277 2024-01-30     15      4\n",
      "278 2024-01-30     16      5\n",
      "279 2024-01-30     17      4\n",
      "280 2024-01-30     18      3\n",
      "281 2024-01-30     19      4\n",
      "282 2024-01-30     21      3\n",
      "283 2024-01-30     22      2\n",
      "284 2024-01-30     24      2\n",
      "285 2024-01-30     25      1\n",
      "286 2024-01-30     26      1\n",
      "287 2024-01-30     27      7\n",
      "288 2024-01-30     29      3\n",
      "289 2024-02-20      0      2\n",
      "290 2024-02-20      1     20\n",
      "291 2024-02-20      2      1\n",
      "292 2024-02-20      3     41\n",
      "293 2024-02-20      4      1\n",
      "294 2024-02-20      7      6\n",
      "295 2024-02-20      8      6\n",
      "296 2024-02-20      9     13\n",
      "297 2024-02-20     10     27\n",
      "298 2024-02-20     11     21\n",
      "299 2024-02-20     13      5\n",
      "300 2024-02-20     14      4\n",
      "301 2024-02-20     15      2\n",
      "302 2024-02-20     17      2\n",
      "303 2024-02-20     18      3\n",
      "304 2024-02-20     19      2\n",
      "305 2024-02-20     20      2\n",
      "306 2024-02-20     21      1\n",
      "307 2024-02-20     22      1\n",
      "308 2024-02-20     23      1\n",
      "309 2024-02-20     26      1\n",
      "310 2024-02-20     28      3\n",
      "311 2024-02-20     29      4\n",
      "312 2024-03-19      0     16\n",
      "313 2024-03-19      1     50\n",
      "314 2024-03-19      2      9\n",
      "315 2024-03-19      3     25\n",
      "316 2024-03-19      4      8\n",
      "317 2024-03-19      5      4\n",
      "318 2024-03-19      7      8\n",
      "319 2024-03-19      8     18\n",
      "320 2024-03-19      9     14\n",
      "321 2024-03-19     10     18\n",
      "322 2024-03-19     11      4\n",
      "323 2024-03-19     12      3\n",
      "324 2024-03-19     13      5\n",
      "325 2024-03-19     14     25\n",
      "326 2024-03-19     16      6\n",
      "327 2024-03-19     17      9\n",
      "328 2024-03-19     18      4\n",
      "329 2024-03-19     19      7\n",
      "330 2024-03-19     20     12\n",
      "331 2024-03-19     21      4\n",
      "332 2024-03-19     22     10\n",
      "333 2024-03-19     23      5\n",
      "334 2024-03-19     24      3\n",
      "335 2024-03-19     25      6\n",
      "336 2024-03-19     26      4\n",
      "337 2024-03-19     29      3\n",
      "338 2024-04-16      0     62\n",
      "339 2024-04-16      1     42\n",
      "340 2024-04-16      2     29\n",
      "341 2024-04-16      3     33\n",
      "342 2024-04-16      4     12\n",
      "343 2024-04-16      5      4\n",
      "344 2024-04-16      6      1\n",
      "345 2024-04-16      7     11\n",
      "346 2024-04-16      8     29\n",
      "347 2024-04-16      9      3\n",
      "348 2024-04-16     10      6\n",
      "349 2024-04-16     12      3\n",
      "350 2024-04-16     13      6\n",
      "351 2024-04-16     14      3\n",
      "352 2024-04-16     15      4\n",
      "353 2024-04-16     17     19\n",
      "354 2024-04-16     18     23\n",
      "355 2024-04-16     19     12\n",
      "356 2024-04-16     20      1\n",
      "357 2024-04-16     21      2\n",
      "358 2024-04-16     22      4\n",
      "359 2024-04-16     23     14\n",
      "360 2024-04-16     24      8\n",
      "361 2024-04-16     25      4\n",
      "362 2024-04-16     26      5\n",
      "363 2024-04-16     28      2\n",
      "364 2024-04-16     29      8\n",
      "365 2024-05-21      0      2\n",
      "366 2024-05-21      1     14\n",
      "367 2024-05-21      2      7\n",
      "368 2024-05-21      3      4\n",
      "369 2024-05-21      4     15\n",
      "370 2024-05-21      5     79\n",
      "371 2024-05-21      7      1\n",
      "372 2024-05-21      8     13\n",
      "373 2024-05-21      9      5\n",
      "374 2024-05-21     10     26\n",
      "375 2024-05-21     12      3\n",
      "376 2024-05-21     13      1\n",
      "377 2024-05-21     16      1\n",
      "378 2024-05-21     17      7\n",
      "379 2024-05-21     18      3\n",
      "380 2024-05-21     21      1\n",
      "381 2024-05-21     22      3\n",
      "382 2024-05-21     23      1\n",
      "383 2024-05-21     26      4\n",
      "384 2024-05-21     27      1\n",
      "385 2024-05-21     28      1\n",
      "386 2024-05-21     29      5\n",
      "387 2024-06-18      0      2\n",
      "388 2024-06-18      1     29\n",
      "389 2024-06-18      2     17\n",
      "390 2024-06-18      3     18\n",
      "391 2024-06-18      4      4\n",
      "392 2024-06-18      5     10\n",
      "393 2024-06-18      7     10\n",
      "394 2024-06-18      8     16\n",
      "395 2024-06-18      9     36\n",
      "396 2024-06-18     10      5\n",
      "397 2024-06-18     11      4\n",
      "398 2024-06-18     12      2\n",
      "399 2024-06-18     13     11\n",
      "400 2024-06-18     14      7\n",
      "401 2024-06-18     15      3\n",
      "402 2024-06-18     16      3\n",
      "403 2024-06-18     17      9\n",
      "404 2024-06-18     18      1\n",
      "405 2024-06-18     19      2\n",
      "406 2024-06-18     20      2\n",
      "407 2024-06-18     21      1\n",
      "408 2024-06-18     22      4\n",
      "409 2024-06-18     23      1\n",
      "410 2024-06-18     25      3\n",
      "411 2024-06-18     26      7\n",
      "412 2024-06-18     27     34\n",
      "413 2024-06-18     28      1\n",
      "414 2024-06-18     29      4\n",
      "415 2024-07-23      0      1\n",
      "416 2024-07-23      1     25\n",
      "417 2024-07-23      2     13\n",
      "418 2024-07-23      3     11\n",
      "419 2024-07-23      4      1\n",
      "420 2024-07-23      5      1\n",
      "421 2024-07-23      6      1\n",
      "422 2024-07-23      7      1\n",
      "423 2024-07-23      8     13\n",
      "424 2024-07-23      9     21\n",
      "425 2024-07-23     10      2\n",
      "426 2024-07-23     11     33\n",
      "427 2024-07-23     12      1\n",
      "428 2024-07-23     14      9\n",
      "429 2024-07-23     15     15\n",
      "430 2024-07-23     17      7\n",
      "431 2024-07-23     19      1\n",
      "432 2024-07-23     20      3\n",
      "433 2024-07-23     21      1\n",
      "434 2024-07-23     25      7\n",
      "435 2024-07-23     27      1\n",
      "436 2024-07-23     28      1\n",
      "437 2024-07-23     29      3\n"
     ]
    }
   ],
   "source": [
    "# Ensure the 'date' column is in datetime format\n",
    "long_lines_df_8_with_embeddings['date'] = pd.to_datetime(long_lines_df_8_with_embeddings['date'])\n",
    "\n",
    "# Group by 'date' and 'topic', then count the number of occurrences of each topic per date\n",
    "topic_counts_per_date = long_lines_df_8_with_embeddings.groupby(['date', 'topic']).size().reset_index(name='count')\n",
    "\n",
    "# Display the result\n",
    "print(topic_counts_per_date)"
   ]
  },
  {
   "cell_type": "code",
   "execution_count": 275,
   "metadata": {},
   "outputs": [
    {
     "data": {
      "image/png": "[encoded data removed]",
      "text/plain": [
       "<Figure size 1000x600 with 1 Axes>"
      ]
     },
     "metadata": {},
     "output_type": "display_data"
    },
    {
     "data": {
      "image/png": "[encoded data removed]",
      "text/plain": [
       "<Figure size 1000x600 with 1 Axes>"
      ]
     },
     "metadata": {},
     "output_type": "display_data"
    },
    {
     "data": {
      "image/png": "[encoded data removed]",
      "text/plain": [
       "<Figure size 1000x600 with 1 Axes>"
      ]
     },
     "metadata": {},
     "output_type": "display_data"
    },
    {
     "data": {
      "image/png": "[encoded data removed]",
      "text/plain": [
       "<Figure size 1000x600 with 1 Axes>"
      ]
     },
     "metadata": {},
     "output_type": "display_data"
    },
    {
     "data": {
      "image/png": "[encoded data removed]",
      "text/plain": [
       "<Figure size 1000x600 with 1 Axes>"
      ]
     },
     "metadata": {},
     "output_type": "display_data"
    },
    {
     "data": {
      "image/png": "[encoded data removed]",
      "text/plain": [
       "<Figure size 1000x600 with 1 Axes>"
      ]
     },
     "metadata": {},
     "output_type": "display_data"
    },
    {
     "data": {
      "image/png": "[encoded data removed]",
      "text/plain": [
       "<Figure size 1000x600 with 1 Axes>"
      ]
     },
     "metadata": {},
     "output_type": "display_data"
    },
    {
     "data": {
      "image/png": "[encoded data removed]",
      "text/plain": [
       "<Figure size 1000x600 with 1 Axes>"
      ]
     },
     "metadata": {},
     "output_type": "display_data"
    },
    {
     "data": {
      "image/png": "[encoded data removed]",
      "text/plain": [
       "<Figure size 1000x600 with 1 Axes>"
      ]
     },
     "metadata": {},
     "output_type": "display_data"
    },
    {
     "data": {
      "image/png": "[encoded data removed]",
      "text/plain": [
       "<Figure size 1000x600 with 1 Axes>"
      ]
     },
     "metadata": {},
     "output_type": "display_data"
    },
    {
     "data": {
      "image/png": "[encoded data removed]",
      "text/plain": [
       "<Figure size 1000x600 with 1 Axes>"
      ]
     },
     "metadata": {},
     "output_type": "display_data"
    },
    {
     "data": {
      "image/png": "[encoded data removed]",
      "text/plain": [
       "<Figure size 1000x600 with 1 Axes>"
      ]
     },
     "metadata": {},
     "output_type": "display_data"
    },
    {
     "data": {
      "image/png": "[encoded data removed]",
      "text/plain": [
       "<Figure size 1000x600 with 1 Axes>"
      ]
     },
     "metadata": {},
     "output_type": "display_data"
    },
    {
     "data": {
      "image/png": "[encoded data removed]",
      "text/plain": [
       "<Figure size 1000x600 with 1 Axes>"
      ]
     },
     "metadata": {},
     "output_type": "display_data"
    },
    {
     "data": {
      "image/png": "[encoded data removed]",
      "text/plain": [
       "<Figure size 1000x600 with 1 Axes>"
      ]
     },
     "metadata": {},
     "output_type": "display_data"
    },
    {
     "data": {
      "image/png": "[encoded data removed]",
      "text/plain": [
       "<Figure size 1000x600 with 1 Axes>"
      ]
     },
     "metadata": {},
     "output_type": "display_data"
    },
    {
     "data": {
      "image/png": "[encoded data removed]",
      "text/plain": [
       "<Figure size 1000x600 with 1 Axes>"
      ]
     },
     "metadata": {},
     "output_type": "display_data"
    },
    {
     "data": {
      "image/png": "[encoded data removed]",
      "text/plain": [
       "<Figure size 1000x600 with 1 Axes>"
      ]
     },
     "metadata": {},
     "output_type": "display_data"
    }
   ],
   "source": [
    "import pandas as pd\n",
    "import matplotlib.pyplot as plt\n",
    "import seaborn as sns\n",
    "\n",
    "# Assuming your data is already in a DataFrame called df\n",
    "topic_counts_per_date['date'] = pd.to_datetime(topic_counts_per_date['date'])  # Ensure 'date' is a datetime object\n",
    "\n",
    "# Get the unique dates from the DataFrame\n",
    "topic_counts_per_date['normalized_count'] = topic_counts_per_date.groupby('date')['count'].transform(lambda x: x / x.sum())\n",
    "\n",
    "unique_dates = topic_counts_per_date['date'].unique()\n",
    "\n",
    "# Loop through each date and create a bar chart\n",
    "for date in unique_dates:\n",
    "    # Filter data for the current date\n",
    "    date_df = topic_counts_per_date[topic_counts_per_date['date'] == date]\n",
    "    \n",
    "    # Create the bar plot for normalized counts\n",
    "    plt.figure(figsize=(10, 6))\n",
    "    sns.barplot(x='topic', y='normalized_count', data=date_df, palette='viridis')\n",
    "\n",
    "    # Add titles and labels\n",
    "    plt.title(f\"Normalized Topic Distribution on {date.date()}\", fontsize=16)\n",
    "    plt.xlabel(\"Topic\", fontsize=12)\n",
    "    plt.ylabel(\"Normalized Count\", fontsize=12)\n",
    "\n",
    "    # Show the plot\n",
    "    plt.xticks(rotation=45)\n",
    "    plt.show()"
   ]
  },
  {
   "cell_type": "code",
   "execution_count": 276,
   "metadata": {},
   "outputs": [
    {
     "data": {
      "text/html": [
       "<div>\n",
       "<style scoped>\n",
       "    .dataframe tbody tr th:only-of-type {\n",
       "        vertical-align: middle;\n",
       "    }\n",
       "\n",
       "    .dataframe tbody tr th {\n",
       "        vertical-align: top;\n",
       "    }\n",
       "\n",
       "    .dataframe thead th {\n",
       "        text-align: right;\n",
       "    }\n",
       "</style>\n",
       "<table border=\"1\" class=\"dataframe\">\n",
       "  <thead>\n",
       "    <tr style=\"text-align: right;\">\n",
       "      <th></th>\n",
       "      <th>date</th>\n",
       "      <th>topic</th>\n",
       "      <th>count</th>\n",
       "      <th>normalized_count</th>\n",
       "      <th>Name</th>\n",
       "    </tr>\n",
       "  </thead>\n",
       "  <tbody>\n",
       "    <tr>\n",
       "      <th>0</th>\n",
       "      <td>2023-01-24</td>\n",
       "      <td>0</td>\n",
       "      <td>46</td>\n",
       "      <td>0.365079</td>\n",
       "      <td>0_Red Hill Environmental Remediation and Water Quality Monitoring Efforts</td>\n",
       "    </tr>\n",
       "    <tr>\n",
       "      <th>1</th>\n",
       "      <td>2023-01-24</td>\n",
       "      <td>7</td>\n",
       "      <td>34</td>\n",
       "      <td>0.269841</td>\n",
       "      <td>7_Support for Kaleo Manuel's Reappointment as Deputy Director of the Water Commission</td>\n",
       "    </tr>\n",
       "    <tr>\n",
       "      <th>2</th>\n",
       "      <td>2023-01-24</td>\n",
       "      <td>24</td>\n",
       "      <td>12</td>\n",
       "      <td>0.095238</td>\n",
       "      <td>24_Community Feedback on Water Quality Data and Accessibility</td>\n",
       "    </tr>\n",
       "    <tr>\n",
       "      <th>3</th>\n",
       "      <td>2023-03-21</td>\n",
       "      <td>1</td>\n",
       "      <td>36</td>\n",
       "      <td>0.266667</td>\n",
       "      <td>1_Water Resource Management and Public Trust Issues in Hawaiʻi</td>\n",
       "    </tr>\n",
       "    <tr>\n",
       "      <th>4</th>\n",
       "      <td>2023-03-21</td>\n",
       "      <td>15</td>\n",
       "      <td>19</td>\n",
       "      <td>0.140741</td>\n",
       "      <td>15_Traditional and Customary Rights of Native Hawaiians and Their Legal Implications</td>\n",
       "    </tr>\n",
       "    <tr>\n",
       "      <th>5</th>\n",
       "      <td>2023-03-21</td>\n",
       "      <td>8</td>\n",
       "      <td>14</td>\n",
       "      <td>0.103704</td>\n",
       "      <td>8_Commission Discussions on Contested Case Hearing and Permit Review Process</td>\n",
       "    </tr>\n",
       "    <tr>\n",
       "      <th>6</th>\n",
       "      <td>2023-04-18</td>\n",
       "      <td>0</td>\n",
       "      <td>46</td>\n",
       "      <td>0.227723</td>\n",
       "      <td>0_Red Hill Environmental Remediation and Water Quality Monitoring Efforts</td>\n",
       "    </tr>\n",
       "    <tr>\n",
       "      <th>7</th>\n",
       "      <td>2023-04-18</td>\n",
       "      <td>1</td>\n",
       "      <td>42</td>\n",
       "      <td>0.207921</td>\n",
       "      <td>1_Water Resource Management and Public Trust Issues in Hawaiʻi</td>\n",
       "    </tr>\n",
       "    <tr>\n",
       "      <th>8</th>\n",
       "      <td>2023-04-18</td>\n",
       "      <td>4</td>\n",
       "      <td>23</td>\n",
       "      <td>0.113861</td>\n",
       "      <td>4_Stream Flow Management and Diversion Modifications in West Maui</td>\n",
       "    </tr>\n",
       "    <tr>\n",
       "      <th>9</th>\n",
       "      <td>2023-05-16</td>\n",
       "      <td>4</td>\n",
       "      <td>67</td>\n",
       "      <td>0.304545</td>\n",
       "      <td>4_Stream Flow Management and Diversion Modifications in West Maui</td>\n",
       "    </tr>\n",
       "    <tr>\n",
       "      <th>10</th>\n",
       "      <td>2023-05-16</td>\n",
       "      <td>3</td>\n",
       "      <td>22</td>\n",
       "      <td>0.100000</td>\n",
       "      <td>3_Water Resource Management and Infrastructure Planning in Hawai‘i</td>\n",
       "    </tr>\n",
       "    <tr>\n",
       "      <th>11</th>\n",
       "      <td>2023-05-16</td>\n",
       "      <td>1</td>\n",
       "      <td>16</td>\n",
       "      <td>0.072727</td>\n",
       "      <td>1_Water Resource Management and Public Trust Issues in Hawaiʻi</td>\n",
       "    </tr>\n",
       "    <tr>\n",
       "      <th>12</th>\n",
       "      <td>2023-06-20</td>\n",
       "      <td>0</td>\n",
       "      <td>73</td>\n",
       "      <td>0.263538</td>\n",
       "      <td>0_Red Hill Environmental Remediation and Water Quality Monitoring Efforts</td>\n",
       "    </tr>\n",
       "    <tr>\n",
       "      <th>13</th>\n",
       "      <td>2023-06-20</td>\n",
       "      <td>2</td>\n",
       "      <td>36</td>\n",
       "      <td>0.129964</td>\n",
       "      <td>2_Zoom Meeting Discussion on Item B-1</td>\n",
       "    </tr>\n",
       "    <tr>\n",
       "      <th>14</th>\n",
       "      <td>2023-06-20</td>\n",
       "      <td>13</td>\n",
       "      <td>25</td>\n",
       "      <td>0.090253</td>\n",
       "      <td>13_Water Resource Planning and Management in East Honolulu and Maui</td>\n",
       "    </tr>\n",
       "    <tr>\n",
       "      <th>15</th>\n",
       "      <td>2023-07-26</td>\n",
       "      <td>0</td>\n",
       "      <td>99</td>\n",
       "      <td>0.227064</td>\n",
       "      <td>0_Red Hill Environmental Remediation and Water Quality Monitoring Efforts</td>\n",
       "    </tr>\n",
       "    <tr>\n",
       "      <th>16</th>\n",
       "      <td>2023-07-26</td>\n",
       "      <td>2</td>\n",
       "      <td>63</td>\n",
       "      <td>0.144495</td>\n",
       "      <td>2_Zoom Meeting Discussion on Item B-1</td>\n",
       "    </tr>\n",
       "    <tr>\n",
       "      <th>17</th>\n",
       "      <td>2023-07-26</td>\n",
       "      <td>3</td>\n",
       "      <td>52</td>\n",
       "      <td>0.119266</td>\n",
       "      <td>3_Water Resource Management and Infrastructure Planning in Hawai‘i</td>\n",
       "    </tr>\n",
       "    <tr>\n",
       "      <th>18</th>\n",
       "      <td>2023-08-15</td>\n",
       "      <td>3</td>\n",
       "      <td>50</td>\n",
       "      <td>0.225225</td>\n",
       "      <td>3_Water Resource Management and Infrastructure Planning in Hawai‘i</td>\n",
       "    </tr>\n",
       "    <tr>\n",
       "      <th>19</th>\n",
       "      <td>2023-08-15</td>\n",
       "      <td>1</td>\n",
       "      <td>48</td>\n",
       "      <td>0.216216</td>\n",
       "      <td>1_Water Resource Management and Public Trust Issues in Hawaiʻi</td>\n",
       "    </tr>\n",
       "    <tr>\n",
       "      <th>20</th>\n",
       "      <td>2023-08-15</td>\n",
       "      <td>2</td>\n",
       "      <td>40</td>\n",
       "      <td>0.180180</td>\n",
       "      <td>2_Zoom Meeting Discussion on Item B-1</td>\n",
       "    </tr>\n",
       "    <tr>\n",
       "      <th>21</th>\n",
       "      <td>2023-09-19</td>\n",
       "      <td>6</td>\n",
       "      <td>57</td>\n",
       "      <td>0.194539</td>\n",
       "      <td>6_West Maui Water Rights and Management Debate</td>\n",
       "    </tr>\n",
       "    <tr>\n",
       "      <th>22</th>\n",
       "      <td>2023-09-19</td>\n",
       "      <td>1</td>\n",
       "      <td>39</td>\n",
       "      <td>0.133106</td>\n",
       "      <td>1_Water Resource Management and Public Trust Issues in Hawaiʻi</td>\n",
       "    </tr>\n",
       "    <tr>\n",
       "      <th>23</th>\n",
       "      <td>2023-09-19</td>\n",
       "      <td>7</td>\n",
       "      <td>31</td>\n",
       "      <td>0.105802</td>\n",
       "      <td>7_Support for Kaleo Manuel's Reappointment as Deputy Director of the Water Commission</td>\n",
       "    </tr>\n",
       "    <tr>\n",
       "      <th>24</th>\n",
       "      <td>2023-10-24</td>\n",
       "      <td>6</td>\n",
       "      <td>39</td>\n",
       "      <td>0.234940</td>\n",
       "      <td>6_West Maui Water Rights and Management Debate</td>\n",
       "    </tr>\n",
       "    <tr>\n",
       "      <th>25</th>\n",
       "      <td>2023-10-24</td>\n",
       "      <td>3</td>\n",
       "      <td>24</td>\n",
       "      <td>0.144578</td>\n",
       "      <td>3_Water Resource Management and Infrastructure Planning in Hawai‘i</td>\n",
       "    </tr>\n",
       "    <tr>\n",
       "      <th>26</th>\n",
       "      <td>2023-10-24</td>\n",
       "      <td>4</td>\n",
       "      <td>24</td>\n",
       "      <td>0.144578</td>\n",
       "      <td>4_Stream Flow Management and Diversion Modifications in West Maui</td>\n",
       "    </tr>\n",
       "    <tr>\n",
       "      <th>27</th>\n",
       "      <td>2023-11-21</td>\n",
       "      <td>0</td>\n",
       "      <td>88</td>\n",
       "      <td>0.321168</td>\n",
       "      <td>0_Red Hill Environmental Remediation and Water Quality Monitoring Efforts</td>\n",
       "    </tr>\n",
       "    <tr>\n",
       "      <th>28</th>\n",
       "      <td>2023-11-21</td>\n",
       "      <td>1</td>\n",
       "      <td>30</td>\n",
       "      <td>0.109489</td>\n",
       "      <td>1_Water Resource Management and Public Trust Issues in Hawaiʻi</td>\n",
       "    </tr>\n",
       "    <tr>\n",
       "      <th>29</th>\n",
       "      <td>2023-11-21</td>\n",
       "      <td>3</td>\n",
       "      <td>23</td>\n",
       "      <td>0.083942</td>\n",
       "      <td>3_Water Resource Management and Infrastructure Planning in Hawai‘i</td>\n",
       "    </tr>\n",
       "    <tr>\n",
       "      <th>30</th>\n",
       "      <td>2023-12-19</td>\n",
       "      <td>1</td>\n",
       "      <td>53</td>\n",
       "      <td>0.218107</td>\n",
       "      <td>1_Water Resource Management and Public Trust Issues in Hawaiʻi</td>\n",
       "    </tr>\n",
       "    <tr>\n",
       "      <th>31</th>\n",
       "      <td>2023-12-19</td>\n",
       "      <td>9</td>\n",
       "      <td>27</td>\n",
       "      <td>0.111111</td>\n",
       "      <td>9_Delegation and Rulemaking Issues in Commission Decisions</td>\n",
       "    </tr>\n",
       "    <tr>\n",
       "      <th>32</th>\n",
       "      <td>2023-12-19</td>\n",
       "      <td>3</td>\n",
       "      <td>26</td>\n",
       "      <td>0.106996</td>\n",
       "      <td>3_Water Resource Management and Infrastructure Planning in Hawai‘i</td>\n",
       "    </tr>\n",
       "    <tr>\n",
       "      <th>33</th>\n",
       "      <td>2024-01-30</td>\n",
       "      <td>4</td>\n",
       "      <td>57</td>\n",
       "      <td>0.218391</td>\n",
       "      <td>4_Stream Flow Management and Diversion Modifications in West Maui</td>\n",
       "    </tr>\n",
       "    <tr>\n",
       "      <th>34</th>\n",
       "      <td>2024-01-30</td>\n",
       "      <td>5</td>\n",
       "      <td>55</td>\n",
       "      <td>0.210728</td>\n",
       "      <td>5_KIUC Phase One Agreement and Cost Estimates for Modifications</td>\n",
       "    </tr>\n",
       "    <tr>\n",
       "      <th>35</th>\n",
       "      <td>2024-01-30</td>\n",
       "      <td>1</td>\n",
       "      <td>41</td>\n",
       "      <td>0.157088</td>\n",
       "      <td>1_Water Resource Management and Public Trust Issues in Hawaiʻi</td>\n",
       "    </tr>\n",
       "    <tr>\n",
       "      <th>36</th>\n",
       "      <td>2024-02-20</td>\n",
       "      <td>3</td>\n",
       "      <td>41</td>\n",
       "      <td>0.242604</td>\n",
       "      <td>3_Water Resource Management and Infrastructure Planning in Hawai‘i</td>\n",
       "    </tr>\n",
       "    <tr>\n",
       "      <th>37</th>\n",
       "      <td>2024-02-20</td>\n",
       "      <td>10</td>\n",
       "      <td>27</td>\n",
       "      <td>0.159763</td>\n",
       "      <td>10_Legislative Process and Commission Involvement in Water Management Bills</td>\n",
       "    </tr>\n",
       "    <tr>\n",
       "      <th>38</th>\n",
       "      <td>2024-02-20</td>\n",
       "      <td>11</td>\n",
       "      <td>21</td>\n",
       "      <td>0.124260</td>\n",
       "      <td>11_Maui Temporary Housing for Lahaina Fire Displaced Residents</td>\n",
       "    </tr>\n",
       "    <tr>\n",
       "      <th>39</th>\n",
       "      <td>2024-03-19</td>\n",
       "      <td>1</td>\n",
       "      <td>50</td>\n",
       "      <td>0.178571</td>\n",
       "      <td>1_Water Resource Management and Public Trust Issues in Hawaiʻi</td>\n",
       "    </tr>\n",
       "    <tr>\n",
       "      <th>40</th>\n",
       "      <td>2024-03-19</td>\n",
       "      <td>3</td>\n",
       "      <td>25</td>\n",
       "      <td>0.089286</td>\n",
       "      <td>3_Water Resource Management and Infrastructure Planning in Hawai‘i</td>\n",
       "    </tr>\n",
       "    <tr>\n",
       "      <th>41</th>\n",
       "      <td>2024-03-19</td>\n",
       "      <td>14</td>\n",
       "      <td>25</td>\n",
       "      <td>0.089286</td>\n",
       "      <td>14_Agricultural Water Usage and Allocation Analysis</td>\n",
       "    </tr>\n",
       "    <tr>\n",
       "      <th>42</th>\n",
       "      <td>2024-04-16</td>\n",
       "      <td>0</td>\n",
       "      <td>62</td>\n",
       "      <td>0.177143</td>\n",
       "      <td>0_Red Hill Environmental Remediation and Water Quality Monitoring Efforts</td>\n",
       "    </tr>\n",
       "    <tr>\n",
       "      <th>43</th>\n",
       "      <td>2024-04-16</td>\n",
       "      <td>1</td>\n",
       "      <td>42</td>\n",
       "      <td>0.120000</td>\n",
       "      <td>1_Water Resource Management and Public Trust Issues in Hawaiʻi</td>\n",
       "    </tr>\n",
       "    <tr>\n",
       "      <th>44</th>\n",
       "      <td>2024-04-16</td>\n",
       "      <td>3</td>\n",
       "      <td>33</td>\n",
       "      <td>0.094286</td>\n",
       "      <td>3_Water Resource Management and Infrastructure Planning in Hawai‘i</td>\n",
       "    </tr>\n",
       "    <tr>\n",
       "      <th>45</th>\n",
       "      <td>2024-05-21</td>\n",
       "      <td>5</td>\n",
       "      <td>79</td>\n",
       "      <td>0.401015</td>\n",
       "      <td>5_KIUC Phase One Agreement and Cost Estimates for Modifications</td>\n",
       "    </tr>\n",
       "    <tr>\n",
       "      <th>46</th>\n",
       "      <td>2024-05-21</td>\n",
       "      <td>10</td>\n",
       "      <td>26</td>\n",
       "      <td>0.131980</td>\n",
       "      <td>10_Legislative Process and Commission Involvement in Water Management Bills</td>\n",
       "    </tr>\n",
       "    <tr>\n",
       "      <th>47</th>\n",
       "      <td>2024-05-21</td>\n",
       "      <td>4</td>\n",
       "      <td>15</td>\n",
       "      <td>0.076142</td>\n",
       "      <td>4_Stream Flow Management and Diversion Modifications in West Maui</td>\n",
       "    </tr>\n",
       "    <tr>\n",
       "      <th>48</th>\n",
       "      <td>2024-06-18</td>\n",
       "      <td>9</td>\n",
       "      <td>36</td>\n",
       "      <td>0.146341</td>\n",
       "      <td>9_Delegation and Rulemaking Issues in Commission Decisions</td>\n",
       "    </tr>\n",
       "    <tr>\n",
       "      <th>49</th>\n",
       "      <td>2024-06-18</td>\n",
       "      <td>27</td>\n",
       "      <td>34</td>\n",
       "      <td>0.138211</td>\n",
       "      <td>27_Balancing Water Reservations and Public Trust Uses for DHHL</td>\n",
       "    </tr>\n",
       "    <tr>\n",
       "      <th>50</th>\n",
       "      <td>2024-06-18</td>\n",
       "      <td>1</td>\n",
       "      <td>29</td>\n",
       "      <td>0.117886</td>\n",
       "      <td>1_Water Resource Management and Public Trust Issues in Hawaiʻi</td>\n",
       "    </tr>\n",
       "    <tr>\n",
       "      <th>51</th>\n",
       "      <td>2024-07-23</td>\n",
       "      <td>11</td>\n",
       "      <td>33</td>\n",
       "      <td>0.191860</td>\n",
       "      <td>11_Maui Temporary Housing for Lahaina Fire Displaced Residents</td>\n",
       "    </tr>\n",
       "    <tr>\n",
       "      <th>52</th>\n",
       "      <td>2024-07-23</td>\n",
       "      <td>1</td>\n",
       "      <td>25</td>\n",
       "      <td>0.145349</td>\n",
       "      <td>1_Water Resource Management and Public Trust Issues in Hawaiʻi</td>\n",
       "    </tr>\n",
       "    <tr>\n",
       "      <th>53</th>\n",
       "      <td>2024-07-23</td>\n",
       "      <td>9</td>\n",
       "      <td>21</td>\n",
       "      <td>0.122093</td>\n",
       "      <td>9_Delegation and Rulemaking Issues in Commission Decisions</td>\n",
       "    </tr>\n",
       "  </tbody>\n",
       "</table>\n",
       "</div>"
      ],
      "text/plain": [
       "         date  topic  count  normalized_count  \\\n",
       "0  2023-01-24      0     46          0.365079   \n",
       "1  2023-01-24      7     34          0.269841   \n",
       "2  2023-01-24     24     12          0.095238   \n",
       "3  2023-03-21      1     36          0.266667   \n",
       "4  2023-03-21     15     19          0.140741   \n",
       "5  2023-03-21      8     14          0.103704   \n",
       "6  2023-04-18      0     46          0.227723   \n",
       "7  2023-04-18      1     42          0.207921   \n",
       "8  2023-04-18      4     23          0.113861   \n",
       "9  2023-05-16      4     67          0.304545   \n",
       "10 2023-05-16      3     22          0.100000   \n",
       "11 2023-05-16      1     16          0.072727   \n",
       "12 2023-06-20      0     73          0.263538   \n",
       "13 2023-06-20      2     36          0.129964   \n",
       "14 2023-06-20     13     25          0.090253   \n",
       "15 2023-07-26      0     99          0.227064   \n",
       "16 2023-07-26      2     63          0.144495   \n",
       "17 2023-07-26      3     52          0.119266   \n",
       "18 2023-08-15      3     50          0.225225   \n",
       "19 2023-08-15      1     48          0.216216   \n",
       "20 2023-08-15      2     40          0.180180   \n",
       "21 2023-09-19      6     57          0.194539   \n",
       "22 2023-09-19      1     39          0.133106   \n",
       "23 2023-09-19      7     31          0.105802   \n",
       "24 2023-10-24      6     39          0.234940   \n",
       "25 2023-10-24      3     24          0.144578   \n",
       "26 2023-10-24      4     24          0.144578   \n",
       "27 2023-11-21      0     88          0.321168   \n",
       "28 2023-11-21      1     30          0.109489   \n",
       "29 2023-11-21      3     23          0.083942   \n",
       "30 2023-12-19      1     53          0.218107   \n",
       "31 2023-12-19      9     27          0.111111   \n",
       "32 2023-12-19      3     26          0.106996   \n",
       "33 2024-01-30      4     57          0.218391   \n",
       "34 2024-01-30      5     55          0.210728   \n",
       "35 2024-01-30      1     41          0.157088   \n",
       "36 2024-02-20      3     41          0.242604   \n",
       "37 2024-02-20     10     27          0.159763   \n",
       "38 2024-02-20     11     21          0.124260   \n",
       "39 2024-03-19      1     50          0.178571   \n",
       "40 2024-03-19      3     25          0.089286   \n",
       "41 2024-03-19     14     25          0.089286   \n",
       "42 2024-04-16      0     62          0.177143   \n",
       "43 2024-04-16      1     42          0.120000   \n",
       "44 2024-04-16      3     33          0.094286   \n",
       "45 2024-05-21      5     79          0.401015   \n",
       "46 2024-05-21     10     26          0.131980   \n",
       "47 2024-05-21      4     15          0.076142   \n",
       "48 2024-06-18      9     36          0.146341   \n",
       "49 2024-06-18     27     34          0.138211   \n",
       "50 2024-06-18      1     29          0.117886   \n",
       "51 2024-07-23     11     33          0.191860   \n",
       "52 2024-07-23      1     25          0.145349   \n",
       "53 2024-07-23      9     21          0.122093   \n",
       "\n",
       "                                                                                     Name  \n",
       "0               0_Red Hill Environmental Remediation and Water Quality Monitoring Efforts  \n",
       "1   7_Support for Kaleo Manuel's Reappointment as Deputy Director of the Water Commission  \n",
       "2                           24_Community Feedback on Water Quality Data and Accessibility  \n",
       "3                          1_Water Resource Management and Public Trust Issues in Hawaiʻi  \n",
       "4    15_Traditional and Customary Rights of Native Hawaiians and Their Legal Implications  \n",
       "5            8_Commission Discussions on Contested Case Hearing and Permit Review Process  \n",
       "6               0_Red Hill Environmental Remediation and Water Quality Monitoring Efforts  \n",
       "7                          1_Water Resource Management and Public Trust Issues in Hawaiʻi  \n",
       "8                       4_Stream Flow Management and Diversion Modifications in West Maui  \n",
       "9                       4_Stream Flow Management and Diversion Modifications in West Maui  \n",
       "10                     3_Water Resource Management and Infrastructure Planning in Hawai‘i  \n",
       "11                         1_Water Resource Management and Public Trust Issues in Hawaiʻi  \n",
       "12              0_Red Hill Environmental Remediation and Water Quality Monitoring Efforts  \n",
       "13                                                  2_Zoom Meeting Discussion on Item B-1  \n",
       "14                    13_Water Resource Planning and Management in East Honolulu and Maui  \n",
       "15              0_Red Hill Environmental Remediation and Water Quality Monitoring Efforts  \n",
       "16                                                  2_Zoom Meeting Discussion on Item B-1  \n",
       "17                     3_Water Resource Management and Infrastructure Planning in Hawai‘i  \n",
       "18                     3_Water Resource Management and Infrastructure Planning in Hawai‘i  \n",
       "19                         1_Water Resource Management and Public Trust Issues in Hawaiʻi  \n",
       "20                                                  2_Zoom Meeting Discussion on Item B-1  \n",
       "21                                         6_West Maui Water Rights and Management Debate  \n",
       "22                         1_Water Resource Management and Public Trust Issues in Hawaiʻi  \n",
       "23  7_Support for Kaleo Manuel's Reappointment as Deputy Director of the Water Commission  \n",
       "24                                         6_West Maui Water Rights and Management Debate  \n",
       "25                     3_Water Resource Management and Infrastructure Planning in Hawai‘i  \n",
       "26                      4_Stream Flow Management and Diversion Modifications in West Maui  \n",
       "27              0_Red Hill Environmental Remediation and Water Quality Monitoring Efforts  \n",
       "28                         1_Water Resource Management and Public Trust Issues in Hawaiʻi  \n",
       "29                     3_Water Resource Management and Infrastructure Planning in Hawai‘i  \n",
       "30                         1_Water Resource Management and Public Trust Issues in Hawaiʻi  \n",
       "31                             9_Delegation and Rulemaking Issues in Commission Decisions  \n",
       "32                     3_Water Resource Management and Infrastructure Planning in Hawai‘i  \n",
       "33                      4_Stream Flow Management and Diversion Modifications in West Maui  \n",
       "34                        5_KIUC Phase One Agreement and Cost Estimates for Modifications  \n",
       "35                         1_Water Resource Management and Public Trust Issues in Hawaiʻi  \n",
       "36                     3_Water Resource Management and Infrastructure Planning in Hawai‘i  \n",
       "37            10_Legislative Process and Commission Involvement in Water Management Bills  \n",
       "38                         11_Maui Temporary Housing for Lahaina Fire Displaced Residents  \n",
       "39                         1_Water Resource Management and Public Trust Issues in Hawaiʻi  \n",
       "40                     3_Water Resource Management and Infrastructure Planning in Hawai‘i  \n",
       "41                                    14_Agricultural Water Usage and Allocation Analysis  \n",
       "42              0_Red Hill Environmental Remediation and Water Quality Monitoring Efforts  \n",
       "43                         1_Water Resource Management and Public Trust Issues in Hawaiʻi  \n",
       "44                     3_Water Resource Management and Infrastructure Planning in Hawai‘i  \n",
       "45                        5_KIUC Phase One Agreement and Cost Estimates for Modifications  \n",
       "46            10_Legislative Process and Commission Involvement in Water Management Bills  \n",
       "47                      4_Stream Flow Management and Diversion Modifications in West Maui  \n",
       "48                             9_Delegation and Rulemaking Issues in Commission Decisions  \n",
       "49                         27_Balancing Water Reservations and Public Trust Uses for DHHL  \n",
       "50                         1_Water Resource Management and Public Trust Issues in Hawaiʻi  \n",
       "51                         11_Maui Temporary Housing for Lahaina Fire Displaced Residents  \n",
       "52                         1_Water Resource Management and Public Trust Issues in Hawaiʻi  \n",
       "53                             9_Delegation and Rulemaking Issues in Commission Decisions  "
      ]
     },
     "execution_count": 276,
     "metadata": {},
     "output_type": "execute_result"
    }
   ],
   "source": [
    "pd.set_option('display.max_colwidth', None)\n",
    "\n",
    "# Ensure the 'date' column is in datetime format\n",
    "topic_counts_per_date['date'] = pd.to_datetime(topic_counts_per_date['date'])\n",
    "\n",
    "# # Step 1: Group by 'date' and 'topic', then count the number of occurrences of each topic per date\n",
    "# topic_counts_per_date = long_lines_df_8_with_embeddings.groupby(['date', 'topic']).size().reset_index(name='count')\n",
    "\n",
    "# Step 2: Sort by 'date' and 'count' (descending order to get the most frequent topics first)\n",
    "topic_counts_per_date = topic_counts_per_date.sort_values(by=['date', 'normalized_count'], ascending=[True, False])\n",
    "\n",
    "# Step 3: Group by 'date' and select the top 2 topics for each date\n",
    "top_2_topics_per_date = topic_counts_per_date.groupby('date').head(3)\n",
    "\n",
    "# Display the result\n",
    "#print(top_2_topics_per_date)\n",
    "\n",
    "# Perform the merge, specifying the column names to merge on\n",
    "merged_df = pd.merge(top_2_topics_per_date, topic_model.get_topic_info(), left_on='topic', right_on='Topic', how='left')\n",
    "\n",
    "# Optionally, drop the 'Topic' column from df_with_titles after the merge if you don't need both 'topic' and 'Topic'\n",
    "merged_df = merged_df.drop(columns=['Topic',\"Representation\",\"Representative_Docs\",\"Count\"])\n",
    "\n",
    "# Display the merged DataFrame\n",
    "merged_df"
   ]
  },
  {
   "cell_type": "code",
   "execution_count": 277,
   "metadata": {},
   "outputs": [
    {
     "name": "stdout",
     "output_type": "stream",
     "text": [
      "Top 3 topics for 2023-01-24 00:00:00:\n",
      "   topic  normalized_count\n",
      "0      0          0.365079\n",
      "1      7          0.269841\n",
      "2     24          0.095238\n",
      "\n",
      "========================================\n",
      "\n",
      "Top 3 topics for 2023-03-21 00:00:00:\n",
      "   topic  normalized_count\n",
      "3      1          0.266667\n",
      "4     15          0.140741\n",
      "5      8          0.103704\n",
      "\n",
      "========================================\n",
      "\n",
      "Top 3 topics for 2023-04-18 00:00:00:\n",
      "   topic  normalized_count\n",
      "6      0          0.227723\n",
      "7      1          0.207921\n",
      "8      4          0.113861\n",
      "\n",
      "========================================\n",
      "\n",
      "Top 3 topics for 2023-05-16 00:00:00:\n",
      "    topic  normalized_count\n",
      "9       4          0.304545\n",
      "10      3          0.100000\n",
      "11      1          0.072727\n",
      "\n",
      "========================================\n",
      "\n",
      "Top 3 topics for 2023-06-20 00:00:00:\n",
      "    topic  normalized_count\n",
      "12      0          0.263538\n",
      "13      2          0.129964\n",
      "14     13          0.090253\n",
      "\n",
      "========================================\n",
      "\n",
      "Top 3 topics for 2023-07-26 00:00:00:\n",
      "    topic  normalized_count\n",
      "15      0          0.227064\n",
      "16      2          0.144495\n",
      "17      3          0.119266\n",
      "\n",
      "========================================\n",
      "\n",
      "Top 3 topics for 2023-08-15 00:00:00:\n",
      "    topic  normalized_count\n",
      "18      3          0.225225\n",
      "19      1          0.216216\n",
      "20      2          0.180180\n",
      "\n",
      "========================================\n",
      "\n",
      "Top 3 topics for 2023-09-19 00:00:00:\n",
      "    topic  normalized_count\n",
      "21      6          0.194539\n",
      "22      1          0.133106\n",
      "23      7          0.105802\n",
      "\n",
      "========================================\n",
      "\n",
      "Top 3 topics for 2023-10-24 00:00:00:\n",
      "    topic  normalized_count\n",
      "24      6          0.234940\n",
      "25      3          0.144578\n",
      "26      4          0.144578\n",
      "\n",
      "========================================\n",
      "\n",
      "Top 3 topics for 2023-11-21 00:00:00:\n",
      "    topic  normalized_count\n",
      "27      0          0.321168\n",
      "28      1          0.109489\n",
      "29      3          0.083942\n",
      "\n",
      "========================================\n",
      "\n",
      "Top 3 topics for 2023-12-19 00:00:00:\n",
      "    topic  normalized_count\n",
      "30      1          0.218107\n",
      "31      9          0.111111\n",
      "32      3          0.106996\n",
      "\n",
      "========================================\n",
      "\n",
      "Top 3 topics for 2024-01-30 00:00:00:\n",
      "    topic  normalized_count\n",
      "33      4          0.218391\n",
      "34      5          0.210728\n",
      "35      1          0.157088\n",
      "\n",
      "========================================\n",
      "\n",
      "Top 3 topics for 2024-02-20 00:00:00:\n",
      "    topic  normalized_count\n",
      "36      3          0.242604\n",
      "37     10          0.159763\n",
      "38     11          0.124260\n",
      "\n",
      "========================================\n",
      "\n",
      "Top 3 topics for 2024-03-19 00:00:00:\n",
      "    topic  normalized_count\n",
      "39      1          0.178571\n",
      "40      3          0.089286\n",
      "41     14          0.089286\n",
      "\n",
      "========================================\n",
      "\n",
      "Top 3 topics for 2024-04-16 00:00:00:\n",
      "    topic  normalized_count\n",
      "42      0          0.177143\n",
      "43      1          0.120000\n",
      "44      3          0.094286\n",
      "\n",
      "========================================\n",
      "\n",
      "Top 3 topics for 2024-05-21 00:00:00:\n",
      "    topic  normalized_count\n",
      "45      5          0.401015\n",
      "46     10          0.131980\n",
      "47      4          0.076142\n",
      "\n",
      "========================================\n",
      "\n",
      "Top 3 topics for 2024-06-18 00:00:00:\n",
      "    topic  normalized_count\n",
      "48      9          0.146341\n",
      "49     27          0.138211\n",
      "50      1          0.117886\n",
      "\n",
      "========================================\n",
      "\n",
      "Top 3 topics for 2024-07-23 00:00:00:\n",
      "    topic  normalized_count\n",
      "51     11          0.191860\n",
      "52      1          0.145349\n",
      "53      9          0.122093\n",
      "\n",
      "========================================\n",
      "\n"
     ]
    }
   ],
   "source": [
    "\n",
    "grouped = merged_df.groupby('date')\n",
    "\n",
    "# Loop through each group (each date) and print the top 3 topics separately\n",
    "for date, group in grouped:\n",
    "    print(f\"Top 3 topics for {date}:\")\n",
    "    print(group[['topic', 'normalized_count']])\n",
    "    print(\"\\n\" + \"=\"*40 + \"\\n\")"
   ]
  },
  {
   "cell_type": "code",
   "execution_count": 287,
   "metadata": {},
   "outputs": [
    {
     "data": {
      "text/html": [
       "<div>\n",
       "<style scoped>\n",
       "    .dataframe tbody tr th:only-of-type {\n",
       "        vertical-align: middle;\n",
       "    }\n",
       "\n",
       "    .dataframe tbody tr th {\n",
       "        vertical-align: top;\n",
       "    }\n",
       "\n",
       "    .dataframe thead th {\n",
       "        text-align: right;\n",
       "    }\n",
       "</style>\n",
       "<table border=\"1\" class=\"dataframe\">\n",
       "  <thead>\n",
       "    <tr style=\"text-align: right;\">\n",
       "      <th></th>\n",
       "      <th>Topic</th>\n",
       "      <th>Count_x</th>\n",
       "      <th>Count_y</th>\n",
       "      <th>Representation</th>\n",
       "    </tr>\n",
       "  </thead>\n",
       "  <tbody>\n",
       "    <tr>\n",
       "      <th>0</th>\n",
       "      <td>-1</td>\n",
       "      <td>2001</td>\n",
       "      <td>2001</td>\n",
       "      <td>[Public Water Management Concerns and Community Engagement in Maui]</td>\n",
       "    </tr>\n",
       "    <tr>\n",
       "      <th>1</th>\n",
       "      <td>0</td>\n",
       "      <td>345</td>\n",
       "      <td>345</td>\n",
       "      <td>[Red Hill Environmental Remediation and Water Quality Monitoring Efforts]</td>\n",
       "    </tr>\n",
       "    <tr>\n",
       "      <th>2</th>\n",
       "      <td>1</td>\n",
       "      <td>248</td>\n",
       "      <td>248</td>\n",
       "      <td>[Water Resource Management and Public Trust Issues in Hawaiʻi]</td>\n",
       "    </tr>\n",
       "    <tr>\n",
       "      <th>3</th>\n",
       "      <td>2</td>\n",
       "      <td>205</td>\n",
       "      <td>205</td>\n",
       "      <td>[Zoom Meeting Discussion on Item B-1]</td>\n",
       "    </tr>\n",
       "    <tr>\n",
       "      <th>4</th>\n",
       "      <td>3</td>\n",
       "      <td>189</td>\n",
       "      <td>189</td>\n",
       "      <td>[Water Resource Management and Infrastructure Planning in Hawai‘i]</td>\n",
       "    </tr>\n",
       "    <tr>\n",
       "      <th>5</th>\n",
       "      <td>4</td>\n",
       "      <td>183</td>\n",
       "      <td>183</td>\n",
       "      <td>[Stream Flow Management and Diversion Modifications in West Maui]</td>\n",
       "    </tr>\n",
       "    <tr>\n",
       "      <th>6</th>\n",
       "      <td>5</td>\n",
       "      <td>143</td>\n",
       "      <td>143</td>\n",
       "      <td>[KIUC Phase One Agreement and Cost Estimates for Modifications]</td>\n",
       "    </tr>\n",
       "    <tr>\n",
       "      <th>7</th>\n",
       "      <td>6</td>\n",
       "      <td>98</td>\n",
       "      <td>98</td>\n",
       "      <td>[West Maui Water Rights and Management Debate]</td>\n",
       "    </tr>\n",
       "    <tr>\n",
       "      <th>8</th>\n",
       "      <td>7</td>\n",
       "      <td>88</td>\n",
       "      <td>88</td>\n",
       "      <td>[Support for Kaleo Manuel's Reappointment as Deputy Director of the Water Commission]</td>\n",
       "    </tr>\n",
       "    <tr>\n",
       "      <th>9</th>\n",
       "      <td>8</td>\n",
       "      <td>80</td>\n",
       "      <td>80</td>\n",
       "      <td>[Commission Discussions on Contested Case Hearing and Permit Review Process]</td>\n",
       "    </tr>\n",
       "    <tr>\n",
       "      <th>10</th>\n",
       "      <td>9</td>\n",
       "      <td>66</td>\n",
       "      <td>66</td>\n",
       "      <td>[Delegation and Rulemaking Issues in Commission Decisions]</td>\n",
       "    </tr>\n",
       "    <tr>\n",
       "      <th>11</th>\n",
       "      <td>10</td>\n",
       "      <td>58</td>\n",
       "      <td>58</td>\n",
       "      <td>[Legislative Process and Commission Involvement in Water Management Bills]</td>\n",
       "    </tr>\n",
       "    <tr>\n",
       "      <th>12</th>\n",
       "      <td>11</td>\n",
       "      <td>55</td>\n",
       "      <td>55</td>\n",
       "      <td>[Maui Temporary Housing for Lahaina Fire Displaced Residents]</td>\n",
       "    </tr>\n",
       "    <tr>\n",
       "      <th>13</th>\n",
       "      <td>12</td>\n",
       "      <td>50</td>\n",
       "      <td>50</td>\n",
       "      <td>[Stream Channel Alteration and Diversion Permits in Hawaii]</td>\n",
       "    </tr>\n",
       "    <tr>\n",
       "      <th>14</th>\n",
       "      <td>13</td>\n",
       "      <td>49</td>\n",
       "      <td>49</td>\n",
       "      <td>[Water Resource Planning and Management in East Honolulu and Maui]</td>\n",
       "    </tr>\n",
       "    <tr>\n",
       "      <th>15</th>\n",
       "      <td>14</td>\n",
       "      <td>44</td>\n",
       "      <td>44</td>\n",
       "      <td>[Agricultural Water Usage and Allocation Analysis]</td>\n",
       "    </tr>\n",
       "    <tr>\n",
       "      <th>16</th>\n",
       "      <td>15</td>\n",
       "      <td>44</td>\n",
       "      <td>44</td>\n",
       "      <td>[Traditional and Customary Rights of Native Hawaiians and Their Legal Implications]</td>\n",
       "    </tr>\n",
       "    <tr>\n",
       "      <th>17</th>\n",
       "      <td>16</td>\n",
       "      <td>37</td>\n",
       "      <td>37</td>\n",
       "      <td>[Staff Recommendations Approval Motions (Hannahs/Katayama)]</td>\n",
       "    </tr>\n",
       "    <tr>\n",
       "      <th>18</th>\n",
       "      <td>17</td>\n",
       "      <td>33</td>\n",
       "      <td>33</td>\n",
       "      <td>[Understanding Feedback and Comparison Issues]</td>\n",
       "    </tr>\n",
       "    <tr>\n",
       "      <th>19</th>\n",
       "      <td>18</td>\n",
       "      <td>30</td>\n",
       "      <td>30</td>\n",
       "      <td>[Federal Funding and Watershed Management Efforts]</td>\n",
       "    </tr>\n",
       "    <tr>\n",
       "      <th>20</th>\n",
       "      <td>19</td>\n",
       "      <td>25</td>\n",
       "      <td>25</td>\n",
       "      <td>[Data Utilization and Knowledge Exchange in Decision Making]</td>\n",
       "    </tr>\n",
       "    <tr>\n",
       "      <th>21</th>\n",
       "      <td>20</td>\n",
       "      <td>24</td>\n",
       "      <td>24</td>\n",
       "      <td>[Groundwater Availability and Sustainability in Hawai‘i Aquifers]</td>\n",
       "    </tr>\n",
       "    <tr>\n",
       "      <th>22</th>\n",
       "      <td>21</td>\n",
       "      <td>24</td>\n",
       "      <td>24</td>\n",
       "      <td>[Stream Protection Management Overview by Dr. Ayron Strauch]</td>\n",
       "    </tr>\n",
       "    <tr>\n",
       "      <th>23</th>\n",
       "      <td>22</td>\n",
       "      <td>22</td>\n",
       "      <td>22</td>\n",
       "      <td>[Clarification of Disputed Numeric Data]</td>\n",
       "    </tr>\n",
       "    <tr>\n",
       "      <th>24</th>\n",
       "      <td>23</td>\n",
       "      <td>21</td>\n",
       "      <td>21</td>\n",
       "      <td>[Ka Paʻakai Mitigation and Impact Analysis]</td>\n",
       "    </tr>\n",
       "    <tr>\n",
       "      <th>25</th>\n",
       "      <td>24</td>\n",
       "      <td>20</td>\n",
       "      <td>20</td>\n",
       "      <td>[Community Feedback on Water Quality Data and Accessibility]</td>\n",
       "    </tr>\n",
       "    <tr>\n",
       "      <th>26</th>\n",
       "      <td>25</td>\n",
       "      <td>19</td>\n",
       "      <td>19</td>\n",
       "      <td>[Delegation of Authority for Well Construction and Pump Installation Permits in Hawaii]</td>\n",
       "    </tr>\n",
       "    <tr>\n",
       "      <th>27</th>\n",
       "      <td>26</td>\n",
       "      <td>18</td>\n",
       "      <td>18</td>\n",
       "      <td>[Update on Water Resource Management in Waimea and Lahaina Aquifers]</td>\n",
       "    </tr>\n",
       "    <tr>\n",
       "      <th>28</th>\n",
       "      <td>27</td>\n",
       "      <td>18</td>\n",
       "      <td>18</td>\n",
       "      <td>[Balancing Water Reservations and Public Trust Uses for DHHL]</td>\n",
       "    </tr>\n",
       "    <tr>\n",
       "      <th>29</th>\n",
       "      <td>28</td>\n",
       "      <td>16</td>\n",
       "      <td>16</td>\n",
       "      <td>[Screen Sharing Issues in Online Meetings]</td>\n",
       "    </tr>\n",
       "    <tr>\n",
       "      <th>30</th>\n",
       "      <td>29</td>\n",
       "      <td>16</td>\n",
       "      <td>16</td>\n",
       "      <td>[Commission Briefing and Public Engagement]</td>\n",
       "    </tr>\n",
       "  </tbody>\n",
       "</table>\n",
       "</div>"
      ],
      "text/plain": [
       "    Topic  Count_x  Count_y  \\\n",
       "0      -1     2001     2001   \n",
       "1       0      345      345   \n",
       "2       1      248      248   \n",
       "3       2      205      205   \n",
       "4       3      189      189   \n",
       "5       4      183      183   \n",
       "6       5      143      143   \n",
       "7       6       98       98   \n",
       "8       7       88       88   \n",
       "9       8       80       80   \n",
       "10      9       66       66   \n",
       "11     10       58       58   \n",
       "12     11       55       55   \n",
       "13     12       50       50   \n",
       "14     13       49       49   \n",
       "15     14       44       44   \n",
       "16     15       44       44   \n",
       "17     16       37       37   \n",
       "18     17       33       33   \n",
       "19     18       30       30   \n",
       "20     19       25       25   \n",
       "21     20       24       24   \n",
       "22     21       24       24   \n",
       "23     22       22       22   \n",
       "24     23       21       21   \n",
       "25     24       20       20   \n",
       "26     25       19       19   \n",
       "27     26       18       18   \n",
       "28     27       18       18   \n",
       "29     28       16       16   \n",
       "30     29       16       16   \n",
       "\n",
       "                                                                             Representation  \n",
       "0                       [Public Water Management Concerns and Community Engagement in Maui]  \n",
       "1                 [Red Hill Environmental Remediation and Water Quality Monitoring Efforts]  \n",
       "2                            [Water Resource Management and Public Trust Issues in Hawaiʻi]  \n",
       "3                                                     [Zoom Meeting Discussion on Item B-1]  \n",
       "4                        [Water Resource Management and Infrastructure Planning in Hawai‘i]  \n",
       "5                         [Stream Flow Management and Diversion Modifications in West Maui]  \n",
       "6                           [KIUC Phase One Agreement and Cost Estimates for Modifications]  \n",
       "7                                            [West Maui Water Rights and Management Debate]  \n",
       "8     [Support for Kaleo Manuel's Reappointment as Deputy Director of the Water Commission]  \n",
       "9              [Commission Discussions on Contested Case Hearing and Permit Review Process]  \n",
       "10                               [Delegation and Rulemaking Issues in Commission Decisions]  \n",
       "11               [Legislative Process and Commission Involvement in Water Management Bills]  \n",
       "12                            [Maui Temporary Housing for Lahaina Fire Displaced Residents]  \n",
       "13                              [Stream Channel Alteration and Diversion Permits in Hawaii]  \n",
       "14                       [Water Resource Planning and Management in East Honolulu and Maui]  \n",
       "15                                       [Agricultural Water Usage and Allocation Analysis]  \n",
       "16      [Traditional and Customary Rights of Native Hawaiians and Their Legal Implications]  \n",
       "17                              [Staff Recommendations Approval Motions (Hannahs/Katayama)]  \n",
       "18                                           [Understanding Feedback and Comparison Issues]  \n",
       "19                                       [Federal Funding and Watershed Management Efforts]  \n",
       "20                             [Data Utilization and Knowledge Exchange in Decision Making]  \n",
       "21                        [Groundwater Availability and Sustainability in Hawai‘i Aquifers]  \n",
       "22                             [Stream Protection Management Overview by Dr. Ayron Strauch]  \n",
       "23                                                 [Clarification of Disputed Numeric Data]  \n",
       "24                                              [Ka Paʻakai Mitigation and Impact Analysis]  \n",
       "25                             [Community Feedback on Water Quality Data and Accessibility]  \n",
       "26  [Delegation of Authority for Well Construction and Pump Installation Permits in Hawaii]  \n",
       "27                     [Update on Water Resource Management in Waimea and Lahaina Aquifers]  \n",
       "28                            [Balancing Water Reservations and Public Trust Uses for DHHL]  \n",
       "29                                               [Screen Sharing Issues in Online Meetings]  \n",
       "30                                              [Commission Briefing and Public Engagement]  "
      ]
     },
     "execution_count": 287,
     "metadata": {},
     "output_type": "execute_result"
    }
   ],
   "source": [
    "topic_model.get_topic_freq()\n",
    "# Perform the merge, specifying the column names to merge on\n",
    "merged_df = pd.merge(topic_model.get_topic_freq(), topic_model.get_topic_info(), on='Topic', how='left')\n",
    "\n",
    "# Optionally, drop the 'Topic' column from df_with_titles after the merge if you don't need both 'topic' and 'Topic'\n",
    "merged_df = merged_df.drop(columns=[\"Name\",\"Representative_Docs\"])\n",
    "\n",
    "# Display the merged DataFrame\n",
    "merged_df"
   ]
  },
  {
   "cell_type": "code",
   "execution_count": 289,
   "metadata": {},
   "outputs": [
    {
     "data": {
      "text/html": [
       "<div>\n",
       "<style scoped>\n",
       "    .dataframe tbody tr th:only-of-type {\n",
       "        vertical-align: middle;\n",
       "    }\n",
       "\n",
       "    .dataframe tbody tr th {\n",
       "        vertical-align: top;\n",
       "    }\n",
       "\n",
       "    .dataframe thead th {\n",
       "        text-align: right;\n",
       "    }\n",
       "</style>\n",
       "<table border=\"1\" class=\"dataframe\">\n",
       "  <thead>\n",
       "    <tr style=\"text-align: right;\">\n",
       "      <th></th>\n",
       "      <th>Topic</th>\n",
       "      <th>Count_x</th>\n",
       "      <th>Count_y</th>\n",
       "      <th>Representation</th>\n",
       "    </tr>\n",
       "  </thead>\n",
       "  <tbody>\n",
       "    <tr>\n",
       "      <th>0</th>\n",
       "      <td>-1</td>\n",
       "      <td>2001</td>\n",
       "      <td>2001</td>\n",
       "      <td>[Water Resource Management Concerns in Maui]</td>\n",
       "    </tr>\n",
       "    <tr>\n",
       "      <th>1</th>\n",
       "      <td>0</td>\n",
       "      <td>613</td>\n",
       "      <td>613</td>\n",
       "      <td>[Water Management and Remediation Efforts in Hawai‘i]</td>\n",
       "    </tr>\n",
       "    <tr>\n",
       "      <th>2</th>\n",
       "      <td>1</td>\n",
       "      <td>321</td>\n",
       "      <td>321</td>\n",
       "      <td>[Water Resource Management and Community Equity in Hawaii]</td>\n",
       "    </tr>\n",
       "    <tr>\n",
       "      <th>3</th>\n",
       "      <td>2</td>\n",
       "      <td>205</td>\n",
       "      <td>205</td>\n",
       "      <td>[Commissioners' Meeting Discussion]</td>\n",
       "    </tr>\n",
       "    <tr>\n",
       "      <th>4</th>\n",
       "      <td>3</td>\n",
       "      <td>183</td>\n",
       "      <td>183</td>\n",
       "      <td>[Water Flow Management and Monitoring in Maui Streams]</td>\n",
       "    </tr>\n",
       "    <tr>\n",
       "      <th>5</th>\n",
       "      <td>4</td>\n",
       "      <td>162</td>\n",
       "      <td>162</td>\n",
       "      <td>[Support for Kaleo Manuel's Reappointment as Deputy Director of the Water Commission]</td>\n",
       "    </tr>\n",
       "    <tr>\n",
       "      <th>6</th>\n",
       "      <td>5</td>\n",
       "      <td>146</td>\n",
       "      <td>146</td>\n",
       "      <td>[Commission Delegation and Rulemaking Concerns]</td>\n",
       "    </tr>\n",
       "    <tr>\n",
       "      <th>7</th>\n",
       "      <td>6</td>\n",
       "      <td>143</td>\n",
       "      <td>143</td>\n",
       "      <td>[KIUC Phase One Modifications and Funding Dispute]</td>\n",
       "    </tr>\n",
       "    <tr>\n",
       "      <th>8</th>\n",
       "      <td>7</td>\n",
       "      <td>98</td>\n",
       "      <td>98</td>\n",
       "      <td>[Reinstate Kaleo Manuel and Uphold Water Rights in Lahaina and West Maui]</td>\n",
       "    </tr>\n",
       "    <tr>\n",
       "      <th>9</th>\n",
       "      <td>8</td>\n",
       "      <td>87</td>\n",
       "      <td>87</td>\n",
       "      <td>[Stream Diversion and Channel Alteration Permit Approvals in Hawaii]</td>\n",
       "    </tr>\n",
       "    <tr>\n",
       "      <th>10</th>\n",
       "      <td>9</td>\n",
       "      <td>65</td>\n",
       "      <td>65</td>\n",
       "      <td>[Traditional and Customary Rights Analysis in Hawaiian Water Permits]</td>\n",
       "    </tr>\n",
       "    <tr>\n",
       "      <th>11</th>\n",
       "      <td>10</td>\n",
       "      <td>44</td>\n",
       "      <td>44</td>\n",
       "      <td>[Agricultural Water Usage and Allocation Analysis]</td>\n",
       "    </tr>\n",
       "    <tr>\n",
       "      <th>12</th>\n",
       "      <td>11</td>\n",
       "      <td>37</td>\n",
       "      <td>37</td>\n",
       "      <td>[Approval of Staff Recommendations by Hannahs and Katayama]</td>\n",
       "    </tr>\n",
       "    <tr>\n",
       "      <th>13</th>\n",
       "      <td>12</td>\n",
       "      <td>33</td>\n",
       "      <td>33</td>\n",
       "      <td>[Clarifying Comparisons and Understanding Decisions]</td>\n",
       "    </tr>\n",
       "    <tr>\n",
       "      <th>14</th>\n",
       "      <td>13</td>\n",
       "      <td>25</td>\n",
       "      <td>25</td>\n",
       "      <td>[Enhancing Data Utilization and Stakeholder Engagement for Informed Decision-Making]</td>\n",
       "    </tr>\n",
       "    <tr>\n",
       "      <th>15</th>\n",
       "      <td>14</td>\n",
       "      <td>24</td>\n",
       "      <td>24</td>\n",
       "      <td>[Stream Protection Management and Hydrology in Hawaii]</td>\n",
       "    </tr>\n",
       "    <tr>\n",
       "      <th>16</th>\n",
       "      <td>15</td>\n",
       "      <td>24</td>\n",
       "      <td>24</td>\n",
       "      <td>[Groundwater Availability and Management in Hawai‘i's Aquifers]</td>\n",
       "    </tr>\n",
       "    <tr>\n",
       "      <th>17</th>\n",
       "      <td>16</td>\n",
       "      <td>22</td>\n",
       "      <td>22</td>\n",
       "      <td>[Discussion on number origins and calculations]</td>\n",
       "    </tr>\n",
       "    <tr>\n",
       "      <th>18</th>\n",
       "      <td>17</td>\n",
       "      <td>20</td>\n",
       "      <td>20</td>\n",
       "      <td>[Water Quality Data and Community Engagement]</td>\n",
       "    </tr>\n",
       "    <tr>\n",
       "      <th>19</th>\n",
       "      <td>18</td>\n",
       "      <td>16</td>\n",
       "      <td>16</td>\n",
       "      <td>[Screen Sharing Discussion]</td>\n",
       "    </tr>\n",
       "  </tbody>\n",
       "</table>\n",
       "</div>"
      ],
      "text/plain": [
       "    Topic  Count_x  Count_y  \\\n",
       "0      -1     2001     2001   \n",
       "1       0      613      613   \n",
       "2       1      321      321   \n",
       "3       2      205      205   \n",
       "4       3      183      183   \n",
       "5       4      162      162   \n",
       "6       5      146      146   \n",
       "7       6      143      143   \n",
       "8       7       98       98   \n",
       "9       8       87       87   \n",
       "10      9       65       65   \n",
       "11     10       44       44   \n",
       "12     11       37       37   \n",
       "13     12       33       33   \n",
       "14     13       25       25   \n",
       "15     14       24       24   \n",
       "16     15       24       24   \n",
       "17     16       22       22   \n",
       "18     17       20       20   \n",
       "19     18       16       16   \n",
       "\n",
       "                                                                           Representation  \n",
       "0                                            [Water Resource Management Concerns in Maui]  \n",
       "1                                   [Water Management and Remediation Efforts in Hawai‘i]  \n",
       "2                              [Water Resource Management and Community Equity in Hawaii]  \n",
       "3                                                     [Commissioners' Meeting Discussion]  \n",
       "4                                  [Water Flow Management and Monitoring in Maui Streams]  \n",
       "5   [Support for Kaleo Manuel's Reappointment as Deputy Director of the Water Commission]  \n",
       "6                                         [Commission Delegation and Rulemaking Concerns]  \n",
       "7                                      [KIUC Phase One Modifications and Funding Dispute]  \n",
       "8               [Reinstate Kaleo Manuel and Uphold Water Rights in Lahaina and West Maui]  \n",
       "9                    [Stream Diversion and Channel Alteration Permit Approvals in Hawaii]  \n",
       "10                  [Traditional and Customary Rights Analysis in Hawaiian Water Permits]  \n",
       "11                                     [Agricultural Water Usage and Allocation Analysis]  \n",
       "12                            [Approval of Staff Recommendations by Hannahs and Katayama]  \n",
       "13                                   [Clarifying Comparisons and Understanding Decisions]  \n",
       "14   [Enhancing Data Utilization and Stakeholder Engagement for Informed Decision-Making]  \n",
       "15                                 [Stream Protection Management and Hydrology in Hawaii]  \n",
       "16                        [Groundwater Availability and Management in Hawai‘i's Aquifers]  \n",
       "17                                        [Discussion on number origins and calculations]  \n",
       "18                                          [Water Quality Data and Community Engagement]  \n",
       "19                                                            [Screen Sharing Discussion]  "
      ]
     },
     "execution_count": 289,
     "metadata": {},
     "output_type": "execute_result"
    }
   ],
   "source": [
    "topic_model.reduce_topics(texts, nr_topics=20)\n",
    "topic_model.get_topic_freq()\n",
    "# Perform the merge, specifying the column names to merge on\n",
    "merged_df = pd.merge(topic_model.get_topic_freq(), topic_model.get_topic_info(), on='Topic', how='left')\n",
    "\n",
    "# Optionally, drop the 'Topic' column from df_with_titles after the merge if you don't need both 'topic' and 'Topic'\n",
    "merged_df = merged_df.drop(columns=[\"Name\",\"Representative_Docs\"])\n",
    "\n",
    "# Display the merged DataFrame\n",
    "merged_df"
   ]
  },
  {
   "cell_type": "code",
   "execution_count": null,
   "metadata": {},
   "outputs": [],
   "source": []
  }
 ],
 "metadata": {
  "kernelspec": {
   "display_name": "maui",
   "language": "python",
   "name": "python3"
  },
  "language_info": {
   "codemirror_mode": {
    "name": "ipython",
    "version": 3
   },
   "file_extension": ".py",
   "mimetype": "text/x-python",
   "name": "python",
   "nbconvert_exporter": "python",
   "pygments_lexer": "ipython3",
   "version": "3.11.0"
  }
 },
 "nbformat": 4,
 "nbformat_minor": 2
}
